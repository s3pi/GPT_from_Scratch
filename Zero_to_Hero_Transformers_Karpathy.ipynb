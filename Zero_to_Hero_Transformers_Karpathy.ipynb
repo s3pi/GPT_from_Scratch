{
  "nbformat": 4,
  "nbformat_minor": 0,
  "metadata": {
    "colab": {
      "provenance": []
    },
    "kernelspec": {
      "name": "python3",
      "display_name": "Python 3"
    },
    "language_info": {
      "name": "python"
    }
  },
  "cells": [
    {
      "cell_type": "markdown",
      "source": [
        "## Building a GPT\n",
        "\n",
        "Companion notebook to the [Zero To Hero](https://karpathy.ai/zero-to-hero.html) video on GPT."
      ],
      "metadata": {
        "id": "wJpXpmjEYC_T"
      }
    },
    {
      "cell_type": "markdown",
      "source": [
        "The Neural network in ChatGPT (Generatively Pretrained Transformer) is the Transformer architecture from \"Attention is all you need\" with very small modification.\n",
        "Training a production grade system, fine tuning with human feed back are all extreme engineering challenges which ChatGPT solved.\n",
        "\n",
        "How ChatGPT works under the hood with an example?\n",
        "For pedagogical reasons, Andrej chose Shakespear's writing in his course. Tiny shakespeare is a 1MB file which compiles all works of shakespear.\n",
        "\n",
        "Goal is to build a model that can produce Shakespere like text. Lets build a model from scratch into a Transformer architecture. Nerual network is expected to model all the patterns in this data and learn to produce character sequences that look like Shakespear's work.\n",
        "\n",
        "ChatGPT produces subword (chunk of word) after subword. While we will produce char after char in this exercise."
      ],
      "metadata": {
        "id": "_DECsTyT0SpB"
      }
    },
    {
      "cell_type": "code",
      "execution_count": null,
      "metadata": {
        "colab": {
          "base_uri": "https://localhost:8080/"
        },
        "id": "h5hjCcLDr2WC",
        "outputId": "a6f235b0-3c51-439a-ed4e-d94714d5fe93"
      },
      "outputs": [
        {
          "output_type": "stream",
          "name": "stdout",
          "text": [
            "--2023-06-02 20:58:28--  https://raw.githubusercontent.com/karpathy/char-rnn/master/data/tinyshakespeare/input.txt\n",
            "Resolving raw.githubusercontent.com (raw.githubusercontent.com)... 185.199.110.133, 185.199.108.133, 185.199.111.133, ...\n",
            "Connecting to raw.githubusercontent.com (raw.githubusercontent.com)|185.199.110.133|:443... connected.\n",
            "HTTP request sent, awaiting response... 200 OK\n",
            "Length: 1115394 (1.1M) [text/plain]\n",
            "Saving to: ‘input.txt’\n",
            "\n",
            "\rinput.txt             0%[                    ]       0  --.-KB/s               \rinput.txt           100%[===================>]   1.06M  --.-KB/s    in 0.03s   \n",
            "\n",
            "2023-06-02 20:58:28 (32.9 MB/s) - ‘input.txt’ saved [1115394/1115394]\n",
            "\n"
          ]
        }
      ],
      "source": [
        "# We always start with a dataset to train on. Let's download the tiny shakespeare dataset\n",
        "!wget https://raw.githubusercontent.com/karpathy/char-rnn/master/data/tinyshakespeare/input.txt"
      ]
    },
    {
      "cell_type": "code",
      "source": [
        "# read it in to inspect it\n",
        "with open('input.txt', 'r', encoding='utf-8') as f:\n",
        "    text = f.read()"
      ],
      "metadata": {
        "id": "O6medjfRsLD9"
      },
      "execution_count": null,
      "outputs": []
    },
    {
      "cell_type": "code",
      "source": [
        "print(\"length of dataset in characters: \", len(text))"
      ],
      "metadata": {
        "colab": {
          "base_uri": "https://localhost:8080/"
        },
        "id": "6xWI_VyAsN8F",
        "outputId": "bda8cb73-fc6c-4d47-e4fa-d5fd7e92b2f8"
      },
      "execution_count": null,
      "outputs": [
        {
          "output_type": "stream",
          "name": "stdout",
          "text": [
            "length of dataset in characters:  1115394\n"
          ]
        }
      ]
    },
    {
      "cell_type": "code",
      "source": [
        "# let's look at the first 1000 characters\n",
        "print(text[:1000])"
      ],
      "metadata": {
        "id": "2c5V0FvqseE0",
        "colab": {
          "base_uri": "https://localhost:8080/"
        },
        "outputId": "81afadab-4bfa-473f-8507-f6d0d2064a28"
      },
      "execution_count": null,
      "outputs": [
        {
          "output_type": "stream",
          "name": "stdout",
          "text": [
            "First Citizen:\n",
            "Before we proceed any further, hear me speak.\n",
            "\n",
            "All:\n",
            "Speak, speak.\n",
            "\n",
            "First Citizen:\n",
            "You are all resolved rather to die than to famish?\n",
            "\n",
            "All:\n",
            "Resolved. resolved.\n",
            "\n",
            "First Citizen:\n",
            "First, you know Caius Marcius is chief enemy to the people.\n",
            "\n",
            "All:\n",
            "We know't, we know't.\n",
            "\n",
            "First Citizen:\n",
            "Let us kill him, and we'll have corn at our own price.\n",
            "Is't a verdict?\n",
            "\n",
            "All:\n",
            "No more talking on't; let it be done: away, away!\n",
            "\n",
            "Second Citizen:\n",
            "One word, good citizens.\n",
            "\n",
            "First Citizen:\n",
            "We are accounted poor citizens, the patricians good.\n",
            "What authority surfeits on would relieve us: if they\n",
            "would yield us but the superfluity, while it were\n",
            "wholesome, we might guess they relieved us humanely;\n",
            "but they think we are too dear: the leanness that\n",
            "afflicts us, the object of our misery, is as an\n",
            "inventory to particularise their abundance; our\n",
            "sufferance is a gain to them Let us revenge this with\n",
            "our pikes, ere we become rakes: for the gods know I\n",
            "speak this in hunger for bread, not in thirst for revenge.\n",
            "\n",
            "\n"
          ]
        }
      ]
    },
    {
      "cell_type": "code",
      "source": [
        "# here are all the unique characters that occur in this text\n",
        "chars = sorted(list(set(text)))\n",
        "vocab_size = len(chars)\n",
        "print(''.join(chars))\n",
        "print(vocab_size)"
      ],
      "metadata": {
        "colab": {
          "base_uri": "https://localhost:8080/"
        },
        "id": "0e-Rbyr8sfM8",
        "outputId": "f5c68595-5b8e-4909-b3ce-b42de4aa82ae"
      },
      "execution_count": null,
      "outputs": [
        {
          "output_type": "stream",
          "name": "stdout",
          "text": [
            "\n",
            " !$&',-.3:;?ABCDEFGHIJKLMNOPQRSTUVWXYZabcdefghijklmnopqrstuvwxyz\n",
            "65\n"
          ]
        }
      ]
    },
    {
      "cell_type": "code",
      "source": [
        "# Tokenize: encoding the characters into a list of integers.\n",
        "# We have an Encoder and Decoder.\n",
        "# create a mapping from characters to integers\n",
        "stoi = { ch:i for i,ch in enumerate(chars) }\n",
        "itos = { i:ch for i,ch in enumerate(chars) }\n",
        "encode = lambda s: [stoi[c] for c in s] # encoder: take a string, output a list of integers\n",
        "decode = lambda l: ''.join([itos[i] for i in l]) # decoder: take a list of integers, output a string\n",
        "\n",
        "print(encode(\"hii there\"))\n",
        "print(decode(encode(\"hii there\")))"
      ],
      "metadata": {
        "colab": {
          "base_uri": "https://localhost:8080/"
        },
        "id": "Yw1LKNCgwjj1",
        "outputId": "e760e84b-f3fc-4db5-fee4-a2418080f961"
      },
      "execution_count": null,
      "outputs": [
        {
          "output_type": "stream",
          "name": "stdout",
          "text": [
            "[46, 47, 47, 1, 58, 46, 43, 56, 43]\n",
            "hii there\n"
          ]
        }
      ]
    },
    {
      "cell_type": "markdown",
      "source": [
        "Many other schemas to tokenize: Google uses SentencePiece and OpenAI uses tiktoken. GPT uses tiktoken.\n",
        "\n",
        "Its a sub word tokenizer. Neither an entire word nor a character.\n",
        "With sub words instead of characters, we will have fewer integers representing the same string. But the number of subwords you can have in the vocabulary list is large.\n",
        "\n",
        "Tradeoff between - Length of squence of integers and vocab size"
      ],
      "metadata": {
        "id": "tFeSrPfEOHIo"
      }
    },
    {
      "cell_type": "code",
      "source": [
        "! pip install tiktoken"
      ],
      "metadata": {
        "colab": {
          "base_uri": "https://localhost:8080/"
        },
        "id": "eyxePS3tm0DL",
        "outputId": "12ae3bfc-3485-4a0c-b438-1d4ee1c0d9c9"
      },
      "execution_count": null,
      "outputs": [
        {
          "output_type": "stream",
          "name": "stdout",
          "text": [
            "Looking in indexes: https://pypi.org/simple, https://us-python.pkg.dev/colab-wheels/public/simple/\n",
            "Collecting tiktoken\n",
            "  Downloading tiktoken-0.4.0-cp310-cp310-manylinux_2_17_x86_64.manylinux2014_x86_64.whl (1.7 MB)\n",
            "\u001b[2K     \u001b[90m━━━━━━━━━━━━━━━━━━━━━━━━━━━━━━━━━━━━━━━━\u001b[0m \u001b[32m1.7/1.7 MB\u001b[0m \u001b[31m30.8 MB/s\u001b[0m eta \u001b[36m0:00:00\u001b[0m\n",
            "\u001b[?25hRequirement already satisfied: regex>=2022.1.18 in /usr/local/lib/python3.10/dist-packages (from tiktoken) (2022.10.31)\n",
            "Requirement already satisfied: requests>=2.26.0 in /usr/local/lib/python3.10/dist-packages (from tiktoken) (2.27.1)\n",
            "Requirement already satisfied: urllib3<1.27,>=1.21.1 in /usr/local/lib/python3.10/dist-packages (from requests>=2.26.0->tiktoken) (1.26.15)\n",
            "Requirement already satisfied: certifi>=2017.4.17 in /usr/local/lib/python3.10/dist-packages (from requests>=2.26.0->tiktoken) (2022.12.7)\n",
            "Requirement already satisfied: charset-normalizer~=2.0.0 in /usr/local/lib/python3.10/dist-packages (from requests>=2.26.0->tiktoken) (2.0.12)\n",
            "Requirement already satisfied: idna<4,>=2.5 in /usr/local/lib/python3.10/dist-packages (from requests>=2.26.0->tiktoken) (3.4)\n",
            "Installing collected packages: tiktoken\n",
            "Successfully installed tiktoken-0.4.0\n"
          ]
        }
      ]
    },
    {
      "cell_type": "code",
      "source": [
        "import tiktoken\n",
        "enc = tiktoken.get_encoding('gpt2')\n",
        "print(enc.n_vocab) # number of tokens\n",
        "print(enc.encode(\"hi there\"))\n",
        "print(enc.decode([5303, 612]))\n",
        "# You can see that \"hi there\" requires just two integers to get encoded."
      ],
      "metadata": {
        "colab": {
          "base_uri": "https://localhost:8080/"
        },
        "id": "SMCyLJ04nEQh",
        "outputId": "e5d61213-8099-41c0-e099-b53aec7bc9ba"
      },
      "execution_count": null,
      "outputs": [
        {
          "output_type": "stream",
          "name": "stdout",
          "text": [
            "50257\n",
            "[5303, 612]\n",
            "hi there\n"
          ]
        }
      ]
    },
    {
      "cell_type": "code",
      "source": [
        "# let's now encode the entire text dataset and store it into a torch.Tensor\n",
        "\n",
        "import torch # we use PyTorch: https://pytorch.org\n",
        "data = torch.tensor(encode(text), dtype=torch.long)\n",
        "print(data.shape, data.dtype)\n",
        "print(data[:1000]) # the 1000 characters we looked at earlier will look like this to the GPT"
      ],
      "metadata": {
        "id": "YJb0OXPwzvqg",
        "colab": {
          "base_uri": "https://localhost:8080/"
        },
        "outputId": "fb266a78-d577-4474-a8ad-b6a6b0f719b9"
      },
      "execution_count": null,
      "outputs": [
        {
          "output_type": "stream",
          "name": "stdout",
          "text": [
            "torch.Size([1115394]) torch.int64\n",
            "tensor([18, 47, 56, 57, 58,  1, 15, 47, 58, 47, 64, 43, 52, 10,  0, 14, 43, 44,\n",
            "        53, 56, 43,  1, 61, 43,  1, 54, 56, 53, 41, 43, 43, 42,  1, 39, 52, 63,\n",
            "         1, 44, 59, 56, 58, 46, 43, 56,  6,  1, 46, 43, 39, 56,  1, 51, 43,  1,\n",
            "        57, 54, 43, 39, 49,  8,  0,  0, 13, 50, 50, 10,  0, 31, 54, 43, 39, 49,\n",
            "         6,  1, 57, 54, 43, 39, 49,  8,  0,  0, 18, 47, 56, 57, 58,  1, 15, 47,\n",
            "        58, 47, 64, 43, 52, 10,  0, 37, 53, 59,  1, 39, 56, 43,  1, 39, 50, 50,\n",
            "         1, 56, 43, 57, 53, 50, 60, 43, 42,  1, 56, 39, 58, 46, 43, 56,  1, 58,\n",
            "        53,  1, 42, 47, 43,  1, 58, 46, 39, 52,  1, 58, 53,  1, 44, 39, 51, 47,\n",
            "        57, 46, 12,  0,  0, 13, 50, 50, 10,  0, 30, 43, 57, 53, 50, 60, 43, 42,\n",
            "         8,  1, 56, 43, 57, 53, 50, 60, 43, 42,  8,  0,  0, 18, 47, 56, 57, 58,\n",
            "         1, 15, 47, 58, 47, 64, 43, 52, 10,  0, 18, 47, 56, 57, 58,  6,  1, 63,\n",
            "        53, 59,  1, 49, 52, 53, 61,  1, 15, 39, 47, 59, 57,  1, 25, 39, 56, 41,\n",
            "        47, 59, 57,  1, 47, 57,  1, 41, 46, 47, 43, 44,  1, 43, 52, 43, 51, 63,\n",
            "         1, 58, 53,  1, 58, 46, 43,  1, 54, 43, 53, 54, 50, 43,  8,  0,  0, 13,\n",
            "        50, 50, 10,  0, 35, 43,  1, 49, 52, 53, 61,  5, 58,  6,  1, 61, 43,  1,\n",
            "        49, 52, 53, 61,  5, 58,  8,  0,  0, 18, 47, 56, 57, 58,  1, 15, 47, 58,\n",
            "        47, 64, 43, 52, 10,  0, 24, 43, 58,  1, 59, 57,  1, 49, 47, 50, 50,  1,\n",
            "        46, 47, 51,  6,  1, 39, 52, 42,  1, 61, 43,  5, 50, 50,  1, 46, 39, 60,\n",
            "        43,  1, 41, 53, 56, 52,  1, 39, 58,  1, 53, 59, 56,  1, 53, 61, 52,  1,\n",
            "        54, 56, 47, 41, 43,  8,  0, 21, 57,  5, 58,  1, 39,  1, 60, 43, 56, 42,\n",
            "        47, 41, 58, 12,  0,  0, 13, 50, 50, 10,  0, 26, 53,  1, 51, 53, 56, 43,\n",
            "         1, 58, 39, 50, 49, 47, 52, 45,  1, 53, 52,  5, 58, 11,  1, 50, 43, 58,\n",
            "         1, 47, 58,  1, 40, 43,  1, 42, 53, 52, 43, 10,  1, 39, 61, 39, 63,  6,\n",
            "         1, 39, 61, 39, 63,  2,  0,  0, 31, 43, 41, 53, 52, 42,  1, 15, 47, 58,\n",
            "        47, 64, 43, 52, 10,  0, 27, 52, 43,  1, 61, 53, 56, 42,  6,  1, 45, 53,\n",
            "        53, 42,  1, 41, 47, 58, 47, 64, 43, 52, 57,  8,  0,  0, 18, 47, 56, 57,\n",
            "        58,  1, 15, 47, 58, 47, 64, 43, 52, 10,  0, 35, 43,  1, 39, 56, 43,  1,\n",
            "        39, 41, 41, 53, 59, 52, 58, 43, 42,  1, 54, 53, 53, 56,  1, 41, 47, 58,\n",
            "        47, 64, 43, 52, 57,  6,  1, 58, 46, 43,  1, 54, 39, 58, 56, 47, 41, 47,\n",
            "        39, 52, 57,  1, 45, 53, 53, 42,  8,  0, 35, 46, 39, 58,  1, 39, 59, 58,\n",
            "        46, 53, 56, 47, 58, 63,  1, 57, 59, 56, 44, 43, 47, 58, 57,  1, 53, 52,\n",
            "         1, 61, 53, 59, 50, 42,  1, 56, 43, 50, 47, 43, 60, 43,  1, 59, 57, 10,\n",
            "         1, 47, 44,  1, 58, 46, 43, 63,  0, 61, 53, 59, 50, 42,  1, 63, 47, 43,\n",
            "        50, 42,  1, 59, 57,  1, 40, 59, 58,  1, 58, 46, 43,  1, 57, 59, 54, 43,\n",
            "        56, 44, 50, 59, 47, 58, 63,  6,  1, 61, 46, 47, 50, 43,  1, 47, 58,  1,\n",
            "        61, 43, 56, 43,  0, 61, 46, 53, 50, 43, 57, 53, 51, 43,  6,  1, 61, 43,\n",
            "         1, 51, 47, 45, 46, 58,  1, 45, 59, 43, 57, 57,  1, 58, 46, 43, 63,  1,\n",
            "        56, 43, 50, 47, 43, 60, 43, 42,  1, 59, 57,  1, 46, 59, 51, 39, 52, 43,\n",
            "        50, 63, 11,  0, 40, 59, 58,  1, 58, 46, 43, 63,  1, 58, 46, 47, 52, 49,\n",
            "         1, 61, 43,  1, 39, 56, 43,  1, 58, 53, 53,  1, 42, 43, 39, 56, 10,  1,\n",
            "        58, 46, 43,  1, 50, 43, 39, 52, 52, 43, 57, 57,  1, 58, 46, 39, 58,  0,\n",
            "        39, 44, 44, 50, 47, 41, 58, 57,  1, 59, 57,  6,  1, 58, 46, 43,  1, 53,\n",
            "        40, 48, 43, 41, 58,  1, 53, 44,  1, 53, 59, 56,  1, 51, 47, 57, 43, 56,\n",
            "        63,  6,  1, 47, 57,  1, 39, 57,  1, 39, 52,  0, 47, 52, 60, 43, 52, 58,\n",
            "        53, 56, 63,  1, 58, 53,  1, 54, 39, 56, 58, 47, 41, 59, 50, 39, 56, 47,\n",
            "        57, 43,  1, 58, 46, 43, 47, 56,  1, 39, 40, 59, 52, 42, 39, 52, 41, 43,\n",
            "        11,  1, 53, 59, 56,  0, 57, 59, 44, 44, 43, 56, 39, 52, 41, 43,  1, 47,\n",
            "        57,  1, 39,  1, 45, 39, 47, 52,  1, 58, 53,  1, 58, 46, 43, 51,  1, 24,\n",
            "        43, 58,  1, 59, 57,  1, 56, 43, 60, 43, 52, 45, 43,  1, 58, 46, 47, 57,\n",
            "         1, 61, 47, 58, 46,  0, 53, 59, 56,  1, 54, 47, 49, 43, 57,  6,  1, 43,\n",
            "        56, 43,  1, 61, 43,  1, 40, 43, 41, 53, 51, 43,  1, 56, 39, 49, 43, 57,\n",
            "        10,  1, 44, 53, 56,  1, 58, 46, 43,  1, 45, 53, 42, 57,  1, 49, 52, 53,\n",
            "        61,  1, 21,  0, 57, 54, 43, 39, 49,  1, 58, 46, 47, 57,  1, 47, 52,  1,\n",
            "        46, 59, 52, 45, 43, 56,  1, 44, 53, 56,  1, 40, 56, 43, 39, 42,  6,  1,\n",
            "        52, 53, 58,  1, 47, 52,  1, 58, 46, 47, 56, 57, 58,  1, 44, 53, 56,  1,\n",
            "        56, 43, 60, 43, 52, 45, 43,  8,  0,  0])\n"
          ]
        }
      ]
    },
    {
      "cell_type": "code",
      "source": [
        "# Let's now split up the data into train and validation sets\n",
        "n = int(0.9*len(data)) # first 90% will be train, rest val\n",
        "train_data = data[:n]\n",
        "val_data = data[n:] # hide the validation data"
      ],
      "metadata": {
        "id": "f_WIXqxz0lU5"
      },
      "execution_count": null,
      "outputs": []
    },
    {
      "cell_type": "code",
      "source": [
        "# Data is usaually trained in small chunks. Here its called Block_size or context_length.\n",
        "block_size = 8\n",
        "train_data[:block_size+1]"
      ],
      "metadata": {
        "colab": {
          "base_uri": "https://localhost:8080/"
        },
        "id": "TD5Bj8Y6IAD4",
        "outputId": "0ce47ca5-5725-44d1-ca17-8dc8f2d636cc"
      },
      "execution_count": null,
      "outputs": [
        {
          "output_type": "execute_result",
          "data": {
            "text/plain": [
              "tensor([18, 47, 56, 57, 58,  1, 15, 47, 58])"
            ]
          },
          "metadata": {},
          "execution_count": 11
        }
      ]
    },
    {
      "cell_type": "code",
      "source": [
        "# All the 8 individual examples are trained at once by the transformer.\n",
        "# Model is trained to predict the output after seeing as little as one length of context to a block_size length of context.\n",
        "# Useful later during inference - sample with as little context length as 1 to block size. After predicting block size length of characters, start truncating.\n",
        "\n",
        "x = train_data[:block_size]\n",
        "y = train_data[1:block_size+1] # target is offset by 1\n",
        "for t in range(block_size):\n",
        "    context = x[:t+1]\n",
        "    target = y[t]\n",
        "    print(f\"when input is {context} the target: {target}\")"
      ],
      "metadata": {
        "colab": {
          "base_uri": "https://localhost:8080/"
        },
        "id": "9HXDe8vGJCEn",
        "outputId": "ae4bd928-e41a-4f58-b9ff-0f6de4bbca7b"
      },
      "execution_count": null,
      "outputs": [
        {
          "output_type": "stream",
          "name": "stdout",
          "text": [
            "when input is tensor([18]) the target: 47\n",
            "when input is tensor([18, 47]) the target: 56\n",
            "when input is tensor([18, 47, 56]) the target: 57\n",
            "when input is tensor([18, 47, 56, 57]) the target: 58\n",
            "when input is tensor([18, 47, 56, 57, 58]) the target: 1\n",
            "when input is tensor([18, 47, 56, 57, 58,  1]) the target: 15\n",
            "when input is tensor([18, 47, 56, 57, 58,  1, 15]) the target: 47\n",
            "when input is tensor([18, 47, 56, 57, 58,  1, 15, 47]) the target: 58\n"
          ]
        }
      ]
    },
    {
      "cell_type": "code",
      "source": [
        "torch.manual_seed(1337) # Since we are going to use random locations from the data to pull the chunks.\n",
        "batch_size = 4 # How many independent sequences will we process in parallel? Keeps the GPUs busy. They don't talk to each other.\n",
        "block_size = 8 # what is the maximum context length for predictions?\n",
        "\n",
        "def get_batch(split):\n",
        "    # generate a small batch of data of inputs x and targets y\n",
        "    data = train_data if split == 'train' else val_data\n",
        "    ix = torch.randint(len(data) - block_size, (batch_size,)) # block size length of random offsets from the training set.\n",
        "    x = torch.stack([data[i:i+block_size] for i in ix]) # 1 dimentional tensor are stacked into multiple rows.\n",
        "    y = torch.stack([data[i+1:i+block_size+1] for i in ix])\n",
        "    return x, y\n",
        "\n",
        "xb, yb = get_batch('train')\n",
        "print('inputs:')\n",
        "print(xb.shape)\n",
        "print(xb)\n",
        "print('targets:')\n",
        "print(yb.shape)\n",
        "print(yb)\n",
        "\n",
        "print('----')\n",
        "\n",
        "for b in range(batch_size): # batch dimension\n",
        "    print(\"----------new batch-------------\")\n",
        "    for t in range(block_size): # time dimension\n",
        "        context = xb[b, :t+1]\n",
        "        target = yb[b,t]\n",
        "        print(f\"when input is {context.tolist()} the target: {target}\")\n",
        "\n",
        "# 32 examples in one batch. They are all independent examples."
      ],
      "metadata": {
        "colab": {
          "base_uri": "https://localhost:8080/"
        },
        "id": "Q3k1Czf7LuA9",
        "outputId": "abdef0b0-40a0-4d34-b583-3538ad127280"
      },
      "execution_count": null,
      "outputs": [
        {
          "output_type": "stream",
          "name": "stdout",
          "text": [
            "inputs:\n",
            "torch.Size([4, 8])\n",
            "tensor([[24, 43, 58,  5, 57,  1, 46, 43],\n",
            "        [44, 53, 56,  1, 58, 46, 39, 58],\n",
            "        [52, 58,  1, 58, 46, 39, 58,  1],\n",
            "        [25, 17, 27, 10,  0, 21,  1, 54]])\n",
            "targets:\n",
            "torch.Size([4, 8])\n",
            "tensor([[43, 58,  5, 57,  1, 46, 43, 39],\n",
            "        [53, 56,  1, 58, 46, 39, 58,  1],\n",
            "        [58,  1, 58, 46, 39, 58,  1, 46],\n",
            "        [17, 27, 10,  0, 21,  1, 54, 39]])\n",
            "----\n",
            "----------new batch-------------\n",
            "when input is [24] the target: 43\n",
            "when input is [24, 43] the target: 58\n",
            "when input is [24, 43, 58] the target: 5\n",
            "when input is [24, 43, 58, 5] the target: 57\n",
            "when input is [24, 43, 58, 5, 57] the target: 1\n",
            "when input is [24, 43, 58, 5, 57, 1] the target: 46\n",
            "when input is [24, 43, 58, 5, 57, 1, 46] the target: 43\n",
            "when input is [24, 43, 58, 5, 57, 1, 46, 43] the target: 39\n",
            "----------new batch-------------\n",
            "when input is [44] the target: 53\n",
            "when input is [44, 53] the target: 56\n",
            "when input is [44, 53, 56] the target: 1\n",
            "when input is [44, 53, 56, 1] the target: 58\n",
            "when input is [44, 53, 56, 1, 58] the target: 46\n",
            "when input is [44, 53, 56, 1, 58, 46] the target: 39\n",
            "when input is [44, 53, 56, 1, 58, 46, 39] the target: 58\n",
            "when input is [44, 53, 56, 1, 58, 46, 39, 58] the target: 1\n",
            "----------new batch-------------\n",
            "when input is [52] the target: 58\n",
            "when input is [52, 58] the target: 1\n",
            "when input is [52, 58, 1] the target: 58\n",
            "when input is [52, 58, 1, 58] the target: 46\n",
            "when input is [52, 58, 1, 58, 46] the target: 39\n",
            "when input is [52, 58, 1, 58, 46, 39] the target: 58\n",
            "when input is [52, 58, 1, 58, 46, 39, 58] the target: 1\n",
            "when input is [52, 58, 1, 58, 46, 39, 58, 1] the target: 46\n",
            "----------new batch-------------\n",
            "when input is [25] the target: 17\n",
            "when input is [25, 17] the target: 27\n",
            "when input is [25, 17, 27] the target: 10\n",
            "when input is [25, 17, 27, 10] the target: 0\n",
            "when input is [25, 17, 27, 10, 0] the target: 21\n",
            "when input is [25, 17, 27, 10, 0, 21] the target: 1\n",
            "when input is [25, 17, 27, 10, 0, 21, 1] the target: 54\n",
            "when input is [25, 17, 27, 10, 0, 21, 1, 54] the target: 39\n"
          ]
        }
      ]
    },
    {
      "cell_type": "code",
      "source": [
        "print(xb) # our input to the transformer"
      ],
      "metadata": {
        "colab": {
          "base_uri": "https://localhost:8080/"
        },
        "id": "qpyyAeIzQjlO",
        "outputId": "0cf871aa-5826-4b8b-cef4-b1ad75e5a599"
      },
      "execution_count": null,
      "outputs": [
        {
          "output_type": "stream",
          "name": "stdout",
          "text": [
            "tensor([[24, 43, 58,  5, 57,  1, 46, 43],\n",
            "        [44, 53, 56,  1, 58, 46, 39, 58],\n",
            "        [52, 58,  1, 58, 46, 39, 58,  1],\n",
            "        [25, 17, 27, 10,  0, 21,  1, 54]])\n"
          ]
        }
      ]
    },
    {
      "cell_type": "code",
      "source": [
        "# Simplest neural network language model - Naive Bigram language model\n",
        "\n",
        "import torch\n",
        "import torch.nn as nn\n",
        "from torch.nn import functional as F\n",
        "torch.manual_seed(1337)\n",
        "\n",
        "class BigramLanguageModel(nn.Module):\n",
        "\n",
        "    def __init__(self, vocab_size):\n",
        "        super().__init__()\n",
        "        self.token_embedding_table = nn.Embedding(vocab_size, vocab_size) #(num of embeddings, embedding_size)\n",
        "        # Each token is projected in to the embedding space to a vector of size vocab_size which is called the embedding_size.\n",
        "        # original papers calls the embedding_size as 'd_model'.\n",
        "\n",
        "    def forward(self, idx, targets):\n",
        "        # idx (inputs) and targets are both (B,T) tensor of integers\n",
        "        logits = self.token_embedding_table(idx)\n",
        "        # From the 65 x 65 size look up table, every integer from the input like 24, 43  will have a corresponding 65 dim vector. Its the identity of that single token.\n",
        "        # Pytorch is going to arrange them in a a stack of dimension - (B,T,C) (4, 8, 65)\n",
        "        # Output of the embedding table is interpretted as logits/scores by the model. Each token is seeing only themself.\n",
        "        # Each token directly reads off the logits for the next token from a lookup table.\n",
        "        # I am looking at only this token to predict the next token - some chars follow other chars in typical scenarios.\n",
        "\n",
        "        return logits\n",
        "\n",
        "m = BigramLanguageModel(vocab_size)\n",
        "out = m(xb, yb)\n",
        "print(out.shape)"
      ],
      "metadata": {
        "colab": {
          "base_uri": "https://localhost:8080/"
        },
        "id": "gPrYloRx2Pqb",
        "outputId": "8bba8bb8-5471-4d12-b2f3-683f3b894abb"
      },
      "execution_count": null,
      "outputs": [
        {
          "output_type": "stream",
          "name": "stdout",
          "text": [
            "torch.Size([4, 8, 65])\n"
          ]
        }
      ]
    },
    {
      "cell_type": "code",
      "source": [
        "# Now lets measure the loss of this model. Neg log likelihood loss (named CrossEntropy in pytorch)\n",
        "\n",
        "import torch\n",
        "import torch.nn as nn\n",
        "from torch.nn import functional as F\n",
        "torch.manual_seed(1337)\n",
        "\n",
        "class BigramLanguageModel(nn.Module):\n",
        "\n",
        "    def __init__(self, vocab_size):\n",
        "        super().__init__()\n",
        "        # $$ each token directly reads off the logits for the next token from a lookup table $$\n",
        "        self.token_embedding_table = nn.Embedding(vocab_size, vocab_size) # (vocab_size, embedding_size)\n",
        "        # Embedding size neednt not be vocab size. But output dimension must be the size of the vocab size.\n",
        "        # We will see that later how we will manage a different size embedding.\n",
        "\n",
        "    def forward(self, idx, targets):\n",
        "        # idx (inputs) and targets are both (B,T) tensor of integers\n",
        "        logits = self.token_embedding_table(idx) # (B,T,C) (4, 8, 65) Output of the embedding table is interpretted as logits/scores by the model. Each token is seeing only themself.\n",
        "\n",
        "        B, T, C = logits.shape\n",
        "        logits = logits.view(B*T, C) # In the C (65) dimensional vector, value corresponding to next char must carry higher magnitude than the rest of the values of characters.\n",
        "        targets = targets.view(B*T)\n",
        "        loss = F.cross_entropy(logits, targets) # Loss determines, how well are we predicting the next char?\n",
        "\n",
        "        return logits, loss\n",
        "\n",
        "m = BigramLanguageModel(vocab_size)\n",
        "logits, loss = m(xb, yb)\n",
        "print(logits.shape)\n",
        "print(loss)"
      ],
      "metadata": {
        "colab": {
          "base_uri": "https://localhost:8080/"
        },
        "id": "I3e3htuHGSy6",
        "outputId": "11a9db5a-6441-49cf-ddaa-84cc9112bf05"
      },
      "execution_count": null,
      "outputs": [
        {
          "output_type": "stream",
          "name": "stdout",
          "text": [
            "torch.Size([32, 65])\n",
            "tensor(4.8786, grad_fn=<NllLossBackward0>)\n"
          ]
        }
      ]
    },
    {
      "cell_type": "code",
      "source": [
        "# Now lets generate from the above model.\n",
        "import torch\n",
        "import torch.nn as nn\n",
        "from torch.nn import functional as F\n",
        "torch.manual_seed(1337)\n",
        "\n",
        "class BigramLanguageModel(nn.Module):\n",
        "\n",
        "    def __init__(self, vocab_size):\n",
        "        super().__init__()\n",
        "        # $$ each token directly reads off the logits for the next token from a lookup table $$\n",
        "        self.token_embedding_table = nn.Embedding(vocab_size, vocab_size)\n",
        "\n",
        "    def forward(self, idx, targets=None):\n",
        "\n",
        "        # idx (inputs) and targets are both (B,T) tensor of integers\n",
        "        logits = self.token_embedding_table(idx) # (B,T,C) (4, 8, 65) Output of the embedding table is interpretted as logits/scores by the model. Each token is seeing only themself.\n",
        "        # Embedding size neednt not be vocab size. But output dimension must be the size of the vocab size. We will see how to manage this later.\n",
        "\n",
        "        if targets is None:\n",
        "            loss = None\n",
        "        else:\n",
        "            B, T, C = logits.shape\n",
        "            logits = logits.view(B*T, C) # In the C dimensional vector, value corresponding to next char must carry higher magnitude than the rest of the values of characters.\n",
        "            targets = targets.view(B*T) # One dimention - not dimension.\n",
        "            loss = F.cross_entropy(logits, targets) # how well are we predicting the next char\n",
        "\n",
        "        return logits, loss\n",
        "\n",
        "    def generate(self, idx, max_new_tokens):\n",
        "        # idx is (B, T) array of indices in the current context\n",
        "        # Job of generator is to take BXT and generate BX(T+1) and this repeats.\n",
        "        for _ in range(max_new_tokens):\n",
        "            # get the predictions\n",
        "            # calls the forward function above\n",
        "            # Make targets = None because we are not sending targets while generating.\n",
        "            # No loss when targets = None.\n",
        "            logits, loss = self(idx)\n",
        "            # focus only on the last time step - only that represents the predictions.\n",
        "            logits = logits[:, -1, :] # becomes (B, C)\n",
        "            # Apply softmax to get probabilities\n",
        "            probs = F.softmax(logits, dim=-1) # (B, C)\n",
        "            # Sample from the distribution\n",
        "            idx_next = torch.multinomial(probs, num_samples=1) # (B, 1)\n",
        "            # Append sampled index to the running sequence\n",
        "            idx = torch.cat((idx, idx_next), dim=1) # (B, T+1)\n",
        "        return idx\n",
        "\n",
        "m = BigramLanguageModel(vocab_size)\n",
        "logits, loss = m(xb, yb)\n",
        "print(logits.shape)\n",
        "print(loss)\n",
        "\n",
        "# Batch size 1, time size 1. 1x1 tensor will hold a 0. This is how we kick off the generation. 0 is the element standing for a new line char.\n",
        "# Can have higher batch size and longer sequence length as well.\n",
        "idx = torch.zeros((1, 1), dtype=torch.long)\n",
        "# Ask for 100 tokens.\n",
        "print(m.generate(idx, max_new_tokens=100))\n",
        "# Decode the tokens into characters.\n",
        "print(decode(m.generate(idx, max_new_tokens=100)[0].tolist()))\n",
        "# Full garbage because its totally random model.\n",
        "# Right now to predict a char its only looking at the previous char. What if it can look into longer context length."
      ],
      "metadata": {
        "colab": {
          "base_uri": "https://localhost:8080/"
        },
        "id": "nql_1ER53oCf",
        "outputId": "9007a715-5a0a-4d77-c089-d8ebe3581ac3"
      },
      "execution_count": null,
      "outputs": [
        {
          "output_type": "stream",
          "name": "stdout",
          "text": [
            "torch.Size([256, 65])\n",
            "tensor(4.8250, grad_fn=<NllLossBackward0>)\n",
            "tensor([[ 0, 31, 56, 12, 55, 28,  7, 29, 35, 49, 58, 36, 53, 24,  4, 48, 24, 16,\n",
            "         22, 45, 27, 24, 34, 64,  5, 30, 21, 53, 16, 55, 20, 42, 46, 57, 34,  4,\n",
            "         60, 24, 24, 62, 39, 58, 48, 57, 41, 25, 54, 61, 24, 17, 30, 31, 28, 63,\n",
            "         39, 53,  8, 55, 44, 64, 57,  3, 37, 57,  3, 64, 18,  7, 61,  6, 11, 43,\n",
            "         17, 49, 64, 62, 48, 45, 15, 23, 18, 15, 46, 57,  2, 47, 35, 35,  8, 27,\n",
            "         40, 64, 16, 52, 62, 13,  1, 25, 57,  3,  9]])\n",
            "\n",
            "pdcbf?pGXepydZJSrF$Jrqt!:wwWSzPNxbjPiD&Q!a;yNt$Kr$o-gC$WSjJqfBKBySKtSKpwNNfyl&w:q-jluBatD$Lj;?yzyUca\n"
          ]
        }
      ]
    },
    {
      "cell_type": "code",
      "source": [
        "# create a PyTorch optimizer object.\n",
        "# Adam is an advanced version of SGD (stochastic gradient descent)\n",
        "# updates the parameters using the gradient.\n",
        "optimizer = torch.optim.AdamW(m.parameters(), lr=1e-3)"
      ],
      "metadata": {
        "id": "eTyJ8qAaDdiF"
      },
      "execution_count": null,
      "outputs": []
    },
    {
      "cell_type": "code",
      "source": [
        "# Typical training loop.\n",
        "batch_size = 32 # Earlier it was 4.\n",
        "for steps in range(10000): # increase number of steps for good results...\n",
        "\n",
        "    # sample a batch of data\n",
        "    xb, yb = get_batch('train')\n",
        "\n",
        "    # evaluate the loss\n",
        "    logits, loss = m(xb, yb)\n",
        "    optimizer.zero_grad(set_to_none=True) # zero out the gradients from the previous step.\n",
        "    loss.backward() # compute the loss\n",
        "    optimizer.step() # change the parameters\n",
        "\n",
        "print(loss.item())\n"
      ],
      "metadata": {
        "colab": {
          "base_uri": "https://localhost:8080/"
        },
        "id": "Hs4kI8YdEkQj",
        "outputId": "88450dee-ffda-4bc9-c564-a56c63e24b65"
      },
      "execution_count": null,
      "outputs": [
        {
          "output_type": "stream",
          "name": "stdout",
          "text": [
            "2.556438684463501\n"
          ]
        }
      ]
    },
    {
      "cell_type": "code",
      "source": [
        "# Its not going to be shakespear. Its a bigram model!!\n",
        "print(decode(m.generate(idx = torch.zeros((1, 1), dtype=torch.long), max_new_tokens=500)[0].tolist()))"
      ],
      "metadata": {
        "colab": {
          "base_uri": "https://localhost:8080/"
        },
        "id": "EcVIDWAZEtjN",
        "outputId": "db4fbd1a-145b-4a45-a102-8e9a70693917"
      },
      "execution_count": null,
      "outputs": [
        {
          "output_type": "stream",
          "name": "stdout",
          "text": [
            "\n",
            "CH;\n",
            "Ane his, t, f at. fal whetrimy bupof tor atha Bu!\n",
            "JOutho f cimimave.\n",
            "NEDUSt cir selle p wie wede\n",
            "Ro n apenor f'Y tover witys an sh d w t e w!\n",
            "CEOntiretoaveE IINpe, theck. cung.\n",
            "ORIsthies hacin benqurd bll, d a r w wistatsowor ath\n",
            "Fivet bloll ang a-I theeancu,\n",
            "LINCI'T:\n",
            "Sarry t I Ane sze t\n",
            "LCKI thit,\n",
            "n.\n",
            "Faure ds ppplirn!\n",
            "meftou ow uring, avewist th;\n",
            "TENTEMETCI gienco, An he waro whiougou he s imaror?\n",
            "Bu ne-ingof acat nd l,\n",
            "Fothind aty y:\n",
            "ARDUTA llllld!\n",
            "AMQUThes med thestw cos wand herf s hafol\n"
          ]
        }
      ]
    },
    {
      "cell_type": "markdown",
      "source": [
        "Hurray!! Dramatic improvement! That is the simplest possible model.These tokens have to talk to each other to be able to make better prediction."
      ],
      "metadata": {
        "id": "2LfVNAAWSy5p"
      }
    },
    {
      "cell_type": "markdown",
      "source": [
        "## The mathematical trick in self-attention"
      ],
      "metadata": {
        "id": "XinV8nmAnmKN"
      }
    },
    {
      "cell_type": "code",
      "source": [
        "# consider the following toy example:\n",
        "torch.manual_seed(1337)\n",
        "B,T,C = 4,3,2 # batch, time, channels\n",
        "x = torch.randn(B,T,C)\n",
        "x.shape"
      ],
      "metadata": {
        "colab": {
          "base_uri": "https://localhost:8080/"
        },
        "id": "Hs_E24uRE8kr",
        "outputId": "0fde5157-e559-45cd-c20f-daed67823d82"
      },
      "execution_count": null,
      "outputs": [
        {
          "output_type": "execute_result",
          "data": {
            "text/plain": [
              "torch.Size([4, 3, 2])"
            ]
          },
          "metadata": {},
          "execution_count": 29
        }
      ]
    },
    {
      "cell_type": "markdown",
      "source": [
        "I should only be able to look at the past tokens.\n",
        "How do you incorporate the past information - one way is averaging the past (cons: lossy - spatial info is lost). Nevertheless lets implement it."
      ],
      "metadata": {
        "id": "PxNN2WU9S5qC"
      }
    },
    {
      "cell_type": "code",
      "source": [
        "# We want x[b,t] = mean_{i<=t} x[b,i]\n",
        "xbow = torch.zeros((B,T,C)) #bag of words\n",
        "\n",
        "for b in range(B):\n",
        "    for t in range(T):\n",
        "        xprev = x[b,:t+1] # (t,C) in this batch dimension, every thing upto and in the location t.\n",
        "        xbow[b,t] = torch.mean(xprev, 0) # averaging the t.\n",
        "\n",
        "print(x[0])\n",
        "print(xbow[0])\n",
        "print(((0.1808 + -0.3596)/2))\n",
        "print((0.1808 + -0.3596 +  0.6258)/3)"
      ],
      "metadata": {
        "id": "86NuXX0fn7ps",
        "colab": {
          "base_uri": "https://localhost:8080/"
        },
        "outputId": "fa29bfd4-9be5-418a-dd77-63d67a4aabe4"
      },
      "execution_count": null,
      "outputs": [
        {
          "output_type": "stream",
          "name": "stdout",
          "text": [
            "tensor([[ 0.1808, -0.0700],\n",
            "        [-0.3596, -0.9152],\n",
            "        [ 0.6258,  0.0255]])\n",
            "tensor([[ 0.1808, -0.0700],\n",
            "        [-0.0894, -0.4926],\n",
            "        [ 0.1490, -0.3199]])\n",
            "-0.0894\n",
            "0.14900000000000002\n"
          ]
        }
      ]
    },
    {
      "cell_type": "code",
      "source": [
        "# For loop is n**2 expensive. so lets matrix multiply.\n",
        "# toy example illustrating how matrix multiplication can be used for a \"weighted aggregation\"\n",
        "torch.manual_seed(42)\n",
        "# a = torch.ones(3, 3)\n",
        "a = torch.tril(torch.ones(3, 3)) # lower triangular matrix with ones. upper traiangular elements will be 0\n",
        "print(a)\n",
        "a = a / torch.sum(a, 1, keepdim=True) # If the rows sum to 1. Averages are done in incremental fashion.\n",
        "b = torch.randint(0,10,(3,2)).float()\n",
        "c = a @ b\n",
        "print('a=')\n",
        "print(a)\n",
        "print('--')\n",
        "print('b=')\n",
        "print(b)\n",
        "print('--')\n",
        "print('c=')\n",
        "print(c)"
      ],
      "metadata": {
        "colab": {
          "base_uri": "https://localhost:8080/"
        },
        "id": "tukiH-NbRBhA",
        "outputId": "38353e0e-2d8e-4d64-9c43-1ef259001a4f"
      },
      "execution_count": null,
      "outputs": [
        {
          "output_type": "stream",
          "name": "stdout",
          "text": [
            "tensor([[1., 0., 0.],\n",
            "        [1., 1., 0.],\n",
            "        [1., 1., 1.]])\n",
            "a=\n",
            "tensor([[1.0000, 0.0000, 0.0000],\n",
            "        [0.5000, 0.5000, 0.0000],\n",
            "        [0.3333, 0.3333, 0.3333]])\n",
            "--\n",
            "b=\n",
            "tensor([[2., 7.],\n",
            "        [6., 4.],\n",
            "        [6., 5.]])\n",
            "--\n",
            "c=\n",
            "tensor([[2.0000, 7.0000],\n",
            "        [4.0000, 5.5000],\n",
            "        [4.6667, 5.3333]])\n"
          ]
        }
      ]
    },
    {
      "cell_type": "code",
      "source": [
        "# version 2: using matrix multiply for a weighted aggregation\n",
        "wei = torch.tril(torch.ones(T, T))\n",
        "wei = wei / wei.sum(1, keepdim=True)\n",
        "print(wei) # This is our 'a' from above example.\n",
        "xbow2 = wei @ x # Pytorch will see that batch dimension is missing in wei and will create a B. Batched matrix multiply. (B, T, T) @ (B, T, C) ----> (B, T, C)\n",
        "print(torch.allclose(xbow, xbow2))"
      ],
      "metadata": {
        "colab": {
          "base_uri": "https://localhost:8080/"
        },
        "id": "yhdOAd6-wXkZ",
        "outputId": "0c7d9e3c-ddbb-40a9-9320-1ae02c3cd1e6"
      },
      "execution_count": null,
      "outputs": [
        {
          "output_type": "stream",
          "name": "stdout",
          "text": [
            "tensor([[1.0000, 0.0000, 0.0000],\n",
            "        [0.5000, 0.5000, 0.0000],\n",
            "        [0.3333, 0.3333, 0.3333]])\n",
            "True\n"
          ]
        }
      ]
    },
    {
      "cell_type": "markdown",
      "source": [
        "T x T matrix is telling about the affinity between each token in across every time step."
      ],
      "metadata": {
        "id": "lw58KIMUTSGa"
      }
    },
    {
      "cell_type": "code",
      "source": [
        "# version 3: use Softmax\n",
        "tril = torch.tril(torch.ones(T, T))\n",
        "print(tril)\n",
        "wei = torch.zeros((T,T)) #intial affinity (how related each token is with previous tokens) between all tokens is set to 0\n",
        "print(wei)\n",
        "wei = wei.masked_fill(tril == 0, float('-inf')) # Future cannot communicate with the past.\n",
        "print(wei)\n",
        "wei = F.softmax(wei, dim=-1) # normalization operation, exponentiate every one of these and divide by sum.\n",
        "#\n",
        "print(wei)\n",
        "xbow3 = wei @ x # Its weighted aggregation of previous characters. This can be achieved by matrix multiplication with lower triangular matrix.\n",
        "torch.allclose(xbow, xbow3)"
      ],
      "metadata": {
        "colab": {
          "base_uri": "https://localhost:8080/"
        },
        "id": "wOURrfG-ysoL",
        "outputId": "d36cc571-8220-43ff-d294-64fc4d2bd3e6"
      },
      "execution_count": null,
      "outputs": [
        {
          "output_type": "stream",
          "name": "stdout",
          "text": [
            "tensor([[1., 0., 0.],\n",
            "        [1., 1., 0.],\n",
            "        [1., 1., 1.]])\n",
            "tensor([[0., 0., 0.],\n",
            "        [0., 0., 0.],\n",
            "        [0., 0., 0.]])\n",
            "tensor([[0., -inf, -inf],\n",
            "        [0., 0., -inf],\n",
            "        [0., 0., 0.]])\n",
            "tensor([[1.0000, 0.0000, 0.0000],\n",
            "        [0.5000, 0.5000, 0.0000],\n",
            "        [0.3333, 0.3333, 0.3333]])\n"
          ]
        },
        {
          "output_type": "execute_result",
          "data": {
            "text/plain": [
              "True"
            ]
          },
          "metadata": {},
          "execution_count": 33
        }
      ]
    },
    {
      "cell_type": "markdown",
      "source": [
        "Over a period of training, some tokens are going to find some token more useful. that score is called affinity between each character.\n",
        "This is a preview into how self attention works."
      ],
      "metadata": {
        "id": "H42b4Xj2Ti1W"
      }
    },
    {
      "cell_type": "code",
      "source": [
        "# 1) Lets see how to manage when embedding_size is not equal to vocab size. This is will introduce more complexity into the model and therefore capture richer representation.\n",
        "# 2) Along with identity lets add position information of the tokens\n",
        "\n",
        "import torch\n",
        "import torch.nn as nn\n",
        "from torch.nn import functional as F\n",
        "torch.manual_seed(1337)\n",
        "\n",
        "# Hyperparameters\n",
        "n_embd = 32\n",
        "\n",
        "class BigramLanguageModel(nn.Module):\n",
        "\n",
        "    def __init__(self, vocab_size):\n",
        "        super().__init__()\n",
        "        self.token_embedding_table = nn.Embedding(vocab_size, n_embd) # n_embd is 32\n",
        "        self.position_embedding_table = nn.Embedding(block_size, n_embd) # Another emdding for position.\n",
        "\n",
        "    def forward(self, idx, targets=None):\n",
        "        B, T = idx.shape\n",
        "        tok_emb = self.token_embedding_table(idx) # (B,T,C)\n",
        "        pos_emb = self.position_embedding_table(torch.arange(T)) # (T,C) positions of T tokens will be integers from 0 to T-1. All of these tokens will ebedded into a table (T,C)\n",
        "        x = tok_emb + pos_emb # (B,T,C) (B, T, C) + (T, C) will get right alligned and a new dimension gets broadcasted resulting in (B, T, C)\n",
        "        # x holds not just the token identities but the positions at which the tokens occur.\n",
        "        # Right now this would not matter because of translation invariance. But this will start to matter when we start with self attention block.\n",
        "        logits = self.lm_head(x) # (B, T, vocab_size)\n",
        "\n",
        "        if targets is None:\n",
        "            loss = None\n",
        "        else:\n",
        "            B, T, C = logits.shape\n",
        "            logits = logits.view(B*T, C) # In the C dimensional vector, value corresponding to next char must carry higher magnitude than the rest of the values of characters.\n",
        "            targets = targets.view(B*T) # One dimention - not dimension.\n",
        "            loss = F.cross_entropy(logits, targets) # how well are we predicting the next char\n",
        "\n",
        "        return logits, loss\n",
        "\n",
        "    def generate(self, idx, max_new_tokens):\n",
        "        for _ in range(max_new_tokens):\n",
        "            logits, loss = self(idx)\n",
        "            logits = logits[:, -1, :]\n",
        "            probs = F.softmax(logits, dim=-1)\n",
        "            idx_next = torch.multinomial(probs, num_samples=1)\n",
        "            idx = torch.cat((idx, idx_next), dim=1)\n",
        "        return idx\n",
        "\n",
        "m = BigramLanguageModel(vocab_size)\n",
        "logits, loss = m(xb, yb)\n",
        "print(logits.shape)\n",
        "print(loss)\n",
        "\n",
        "idx = torch.zeros((1, 1), dtype=torch.long)\n",
        "print(decode(m.generate(idx, max_new_tokens=100)[0].tolist()))\n"
      ],
      "metadata": {
        "id": "qh5sZri8UctV"
      },
      "execution_count": null,
      "outputs": []
    },
    {
      "cell_type": "code",
      "source": [
        "# version 4: self-attention for a single individual head!\n",
        "\n",
        "# Ideally intial affinity between tokens shouldn not be zero - it should data dependent. Vowels is preceded by a consonant mostly. That kind of dependency.\n",
        "# Self attention solves this.\n",
        "# Every token will emit two vectors - query (what am I looking for) and key (what do I contain). Dot product between the two gives the affinity.\n",
        "# Token i: (What am I looking for) X (What every one has to offer). If query and key of a particular values are aligned it will have a higher value.\n",
        "\n",
        "torch.manual_seed(1337)\n",
        "B,T,C = 4,8,32 # batch, time, channels\n",
        "x = torch.randn(B,T,C)\n",
        "\n",
        "# let's see a single Head perform self-attention\n",
        "head_size = 16 # size of a single head.\n",
        "key = nn.Linear(C, head_size, bias=False)\n",
        "query = nn.Linear(C, head_size, bias=False)\n",
        "value = nn.Linear(C, head_size, bias=False)\n",
        "k = key(x)   # (B, T, 16)\n",
        "q = query(x) # (B, T, 16)\n",
        "# When I pass 'x' through key and query, all the tokens parallely produce some result. No communication has happened yet.\n",
        "wei =  q @ k.transpose(-2, -1) # Transpose the last two dimensions : (B, T, 16) @ (B, 16, T) ---> (B, T, T)\n",
        "# Now wei is not 0 as in earlier. Some raw affinities\n",
        "\n",
        "tril = torch.tril(torch.ones(T, T))\n",
        "#wei = torch.zeros((T,T))\n",
        "wei = wei.masked_fill(tril == 0, float('-inf')) # upper triangular masking\n",
        "wei = F.softmax(wei, dim=-1) # exponentiate and normalize to produce a nice distribution between 0 and 1.\n",
        "\n",
        "print(wei[0])\n",
        "# The values wont be uniform because they all carry different weights.\n",
        "# Example) I am vowel at 8th place and am looking for consonants in any position upto 4.\n",
        "# Every token is also emitting a key\n",
        "# Dot product will have a high affinity when there is a high alignment.\n",
        "\n",
        "v = value(x)\n",
        "out = wei @ v # instead of raw x, we aggregate v.\n",
        "# x is a private info to the token\n",
        "# For the purposes of a single head, key: here is what Iam interested in, query: here is what I have, if you are interested in me, value: here is what I will communicate to you.\n",
        "#out = wei @ x\n",
        "\n",
        "print(out.shape)"
      ],
      "metadata": {
        "colab": {
          "base_uri": "https://localhost:8080/"
        },
        "id": "EDarxEWIRMKq",
        "outputId": "eef0cd36-d068-4069-920e-a2bdc96a66d9"
      },
      "execution_count": null,
      "outputs": [
        {
          "output_type": "stream",
          "name": "stdout",
          "text": [
            "tensor([[1.0000, 0.0000, 0.0000, 0.0000, 0.0000, 0.0000, 0.0000, 0.0000],\n",
            "        [0.1574, 0.8426, 0.0000, 0.0000, 0.0000, 0.0000, 0.0000, 0.0000],\n",
            "        [0.2088, 0.1646, 0.6266, 0.0000, 0.0000, 0.0000, 0.0000, 0.0000],\n",
            "        [0.5792, 0.1187, 0.1889, 0.1131, 0.0000, 0.0000, 0.0000, 0.0000],\n",
            "        [0.0294, 0.1052, 0.0469, 0.0276, 0.7909, 0.0000, 0.0000, 0.0000],\n",
            "        [0.0176, 0.2689, 0.0215, 0.0089, 0.6812, 0.0019, 0.0000, 0.0000],\n",
            "        [0.1691, 0.4066, 0.0438, 0.0416, 0.1048, 0.2012, 0.0329, 0.0000],\n",
            "        [0.0210, 0.0843, 0.0555, 0.2297, 0.0573, 0.0709, 0.2423, 0.2391]],\n",
            "       grad_fn=<SelectBackward0>)\n",
            "torch.Size([4, 8, 16])\n"
          ]
        }
      ]
    },
    {
      "cell_type": "markdown",
      "source": [
        "Notes:\n",
        "- Attention is a **communication mechanism**. Can be seen as nodes in a directed graph looking at each other and aggregating information with a weighted sum from all nodes that point to them, with data-dependent weights.\n",
        "- In principle, self attention can be applied to any graph, LLMs are autoregressive so they are topological graphs - cant see future nodes.\n",
        "- There is no notion of space. Attention simply acts over a set of vectors. This is why we need to positionally encode tokens. Different from convolution because convolutional filters act in space. Specific layout is captured using filters.\n",
        "- Each example across batch dimension is of course processed completely independently and never \"talk\" to each other. 4 separate pools of 8 nodes are talking to each other.\n",
        "- In an \"encoder\" attention block just delete the single line that does masking with `tril`, allowing all tokens to communicate. This block here is called a \"decoder\" attention block because it has triangular masking, and is usually used in autoregressive settings, like language modeling. Sentiment analysis does not require to block the future - you may want to look at all the nodes.\n",
        "- \"self-attention\" just means that the keys and values are produced from the same source as queries. In \"cross-attention\", the queries still get produced from x, but the keys and values come from some other, external source (e.g. an encoder module)\n",
        "- \"Scaled\" attention additional divides `wei` by 1/sqrt(head_size). This makes it so when input Q,K are unit variance, wei will be unit variance too and Softmax will stay diffuse and not saturate too much. Illustration below"
      ],
      "metadata": {
        "id": "M5CvobiQ0pLr"
      }
    },
    {
      "cell_type": "code",
      "source": [
        "k = torch.randn(B,T,head_size) # unit gaussian\n",
        "q = torch.randn(B,T,head_size) # unit gaussian\n",
        "wei = q @ k.transpose(-2, -1) # not unit gaussian\n",
        "unit_wei = q @ k.transpose(-2, -1) * head_size**-0.5 # now unit guassian"
      ],
      "metadata": {
        "id": "4SNbLq5z3oBw"
      },
      "execution_count": null,
      "outputs": []
    },
    {
      "cell_type": "code",
      "source": [
        "k.var()"
      ],
      "metadata": {
        "colab": {
          "base_uri": "https://localhost:8080/"
        },
        "id": "Nl6I9n9IRTSo",
        "outputId": "9eb1f39c-f185-4ced-a0d9-6be63ebd1204"
      },
      "execution_count": null,
      "outputs": [
        {
          "output_type": "execute_result",
          "data": {
            "text/plain": [
              "tensor(1.0449)"
            ]
          },
          "metadata": {},
          "execution_count": 37
        }
      ]
    },
    {
      "cell_type": "code",
      "source": [
        "q.var()"
      ],
      "metadata": {
        "colab": {
          "base_uri": "https://localhost:8080/"
        },
        "id": "T1tQx7oeRvtc",
        "outputId": "2e6a1dd5-3a8c-4cda-f6dd-30cdaf4294b5"
      },
      "execution_count": null,
      "outputs": [
        {
          "output_type": "execute_result",
          "data": {
            "text/plain": [
              "tensor(1.0700)"
            ]
          },
          "metadata": {},
          "execution_count": 38
        }
      ]
    },
    {
      "cell_type": "code",
      "source": [
        "wei.var()"
      ],
      "metadata": {
        "colab": {
          "base_uri": "https://localhost:8080/"
        },
        "id": "MLb_odHU3iKM",
        "outputId": "0addaf67-ddc5-4cbc-99b3-4022a09e63dd"
      },
      "execution_count": null,
      "outputs": [
        {
          "output_type": "execute_result",
          "data": {
            "text/plain": [
              "tensor(17.4690)"
            ]
          },
          "metadata": {},
          "execution_count": 39
        }
      ]
    },
    {
      "cell_type": "code",
      "source": [
        "unit_wei.var()"
      ],
      "metadata": {
        "colab": {
          "base_uri": "https://localhost:8080/"
        },
        "id": "F1w-PQyC09Et",
        "outputId": "c7315496-351f-47af-82be-d077b5940ef8"
      },
      "execution_count": null,
      "outputs": [
        {
          "output_type": "execute_result",
          "data": {
            "text/plain": [
              "tensor(1.0918)"
            ]
          },
          "metadata": {},
          "execution_count": 40
        }
      ]
    },
    {
      "cell_type": "markdown",
      "source": [
        "Why do you want the vectors to be unit gaussian? Otherwise the values are too peaky and information will get aggregated from a single node. You can achieve unit gaussian by dividing with sqrt(head_size)"
      ],
      "metadata": {
        "id": "2NyLITlBT1F5"
      }
    },
    {
      "cell_type": "code",
      "source": [
        "torch.softmax(torch.tensor([0.1, -0.2, 0.3, -0.2, 0.5]), dim=-1)"
      ],
      "metadata": {
        "colab": {
          "base_uri": "https://localhost:8080/"
        },
        "id": "JB82yzt44REI",
        "outputId": "eb187d61-a07f-490b-dd04-a2d9f06c135b"
      },
      "execution_count": null,
      "outputs": [
        {
          "output_type": "execute_result",
          "data": {
            "text/plain": [
              "tensor([0.1925, 0.1426, 0.2351, 0.1426, 0.2872])"
            ]
          },
          "metadata": {},
          "execution_count": 41
        }
      ]
    },
    {
      "cell_type": "code",
      "source": [
        "torch.softmax(torch.tensor([0.1, -0.2, 0.3, -0.2, 0.5])*8, dim=-1) # gets too peaky, converges to one-hot. Aggregates info from a single node."
      ],
      "metadata": {
        "colab": {
          "base_uri": "https://localhost:8080/"
        },
        "id": "Mpt8569BB9_f",
        "outputId": "34e05cf7-f8f3-42b4-b7de-c41c24f6b9cc"
      },
      "execution_count": null,
      "outputs": [
        {
          "output_type": "execute_result",
          "data": {
            "text/plain": [
              "tensor([0.0326, 0.0030, 0.1615, 0.0030, 0.8000])"
            ]
          },
          "metadata": {},
          "execution_count": 42
        }
      ]
    },
    {
      "cell_type": "code",
      "source": [
        "# Lets add the single head into code with all other stuff discussed above.\n",
        "\n",
        "import torch\n",
        "import torch.nn as nn\n",
        "from torch.nn import functional as F\n",
        "\n",
        "# hyperparameters\n",
        "batch_size = 16 # how many independent sequences will we process in parallel?\n",
        "block_size = 32 # what is the maximum context length for predictions?\n",
        "max_iters = 5000\n",
        "eval_interval = 500\n",
        "learning_rate = 1e-3\n",
        "device = 'cuda' if torch.cuda.is_available() else 'cpu'\n",
        "#if you use gpu, things will be much faster. Remember to move the data, model parameters, context while generating to device.\n",
        "eval_iters = 200\n",
        "n_embd = 32\n",
        "# ------------\n",
        "\n",
        "torch.manual_seed(1337)\n",
        "\n",
        "# wget https://raw.githubusercontent.com/karpathy/char-rnn/master/data/tinyshakespeare/input.txt\n",
        "with open('input.txt', 'r', encoding='utf-8') as f:\n",
        "    text = f.read()\n",
        "\n",
        "# here are all the unique characters that occur in this text\n",
        "chars = sorted(list(set(text)))\n",
        "vocab_size = len(chars)\n",
        "# create a mapping from characters to integers\n",
        "stoi = { ch:i for i,ch in enumerate(chars) }\n",
        "itos = { i:ch for i,ch in enumerate(chars) }\n",
        "encode = lambda s: [stoi[c] for c in s] # encoder: take a string, output a list of integers\n",
        "decode = lambda l: ''.join([itos[i] for i in l]) # decoder: take a list of integers, output a string\n",
        "\n",
        "# Train and test splits\n",
        "data = torch.tensor(encode(text), dtype=torch.long)\n",
        "n = int(0.9*len(data)) # first 90% will be train, rest val\n",
        "train_data = data[:n]\n",
        "val_data = data[n:]\n",
        "\n",
        "# data loading\n",
        "def get_batch(split):\n",
        "    # generate a small batch of data of inputs x and targets y\n",
        "    data = train_data if split == 'train' else val_data\n",
        "    ix = torch.randint(len(data) - block_size, (batch_size,))\n",
        "    x = torch.stack([data[i:i+block_size] for i in ix])\n",
        "    y = torch.stack([data[i+1:i+block_size+1] for i in ix])\n",
        "    x, y = x.to(device), y.to(device)\n",
        "    return x, y\n",
        "\n",
        "# Earlier every batch was more or less lucky. Here loss is averaged over the entire batch.\n",
        "def estimate_loss():\n",
        "    out = {}\n",
        "    model.eval() # some layers will have different behaviour in inference time or triaing time. so this is an important setting.\n",
        "    for split in ['train', 'val']:\n",
        "        losses = torch.zeros(eval_iters)\n",
        "        for k in range(eval_iters):\n",
        "            X, Y = get_batch(split)\n",
        "            logits, loss = model(X, Y)\n",
        "\n",
        "def estimate_loss():\n",
        "    out = {}\n",
        "    model.eval() # some layers will have different behaviour in inference time or triaing time. so this is an important setting.\n",
        "    for split in ['train', 'val']:\n",
        "        losses = torch.zeros(eval_iters)\n",
        "        for k in range(eval_iters):\n",
        "            X, Y = get_batch(split)\n",
        "            logits, loss = model(X, Y)\n",
        "            losses[k] = loss.item()\n",
        "        out[split] = losses.mean()\n",
        "    model.train()\n",
        "    return out\n",
        "\n",
        "class Head(nn.Module):\n",
        "    \"\"\" one head of self-attention \"\"\"\n",
        "\n",
        "    def __init__(self, head_size):\n",
        "        super().__init__()\n",
        "        self.key = nn.Linear(n_embd, head_size, bias=False)\n",
        "        self.query = nn.Linear(n_embd, head_size, bias=False)\n",
        "        self.value = nn.Linear(n_embd, head_size, bias=False)\n",
        "        self.register_buffer('tril', torch.tril(torch.ones(block_size, block_size)))\n",
        "\n",
        "    def forward(self, x):\n",
        "        B,T,C = x.shape\n",
        "        k = self.key(x)   # (B,T,C)\n",
        "        q = self.query(x) # (B,T,C)\n",
        "        # compute attention scores (\"affinities\")\n",
        "        wei = q @ k.transpose(-2,-1) * C**-0.5 # (B, T, C) @ (B, C, T) -> (B, T, T)\n",
        "        wei = wei.masked_fill(self.tril[:T, :T] == 0, float('-inf')) # (B, T, T)\n",
        "        wei = F.softmax(wei, dim=-1) # (B, T, T)\n",
        "        # perform the weighted aggregation of the values\n",
        "        v = self.value(x) # (B,T,C)\n",
        "        out = wei @ v # (B, T, T) @ (B, T, C) -> (B, T, C)\n",
        "        return out\n",
        "\n",
        "# super simple bigram model\n",
        "class BigramLanguageModel(nn.Module):\n",
        "\n",
        "    def __init__(self):\n",
        "        super().__init__()\n",
        "        # each token directly reads off the logits for the next token from a lookup table\n",
        "        self.token_embedding_table = nn.Embedding(vocab_size, n_embd)\n",
        "        self.position_embedding_table = nn.Embedding(block_size, n_embd)\n",
        "        self.sa_head = Head(n_embd)\n",
        "        self.lm_head = nn.Linear(n_embd, vocab_size)\n",
        "\n",
        "    def forward(self, idx, targets=None):\n",
        "        B, T = idx.shape\n",
        "\n",
        "        # idx and targets are both (B,T) tensor of integers\n",
        "        tok_emb = self.token_embedding_table(idx) # (B,T,C)\n",
        "        pos_emb = self.position_embedding_table(torch.arange(T, device=device)) # (T,C)\n",
        "        x = tok_emb + pos_emb # (B,T,C)\n",
        "        x = self.sa_head(x) # apply one head of self-attention. (B, T, C)\n",
        "        logits = self.lm_head(x) # (B,T,vocab_size)\n",
        "\n",
        "        if targets is None:\n",
        "            loss = None\n",
        "        else:\n",
        "            B, T, C = logits.shape\n",
        "            logits = logits.view(B*T, C)\n",
        "            targets = targets.view(B*T)\n",
        "            loss = F.cross_entropy(logits, targets)\n",
        "\n",
        "        return logits, loss\n",
        "\n",
        "    def generate(self, idx, max_new_tokens):\n",
        "        # idx is (B, T) array of indices in the current context\n",
        "        for _ in range(max_new_tokens):\n",
        "            # crop idx to the last block_size tokens\n",
        "            idx_cond = idx[:, -block_size:]\n",
        "            # get the predictions\n",
        "            logits, loss = self(idx_cond)\n",
        "            # focus only on the last time step\n",
        "            logits = logits[:, -1, :] # becomes (B, C)\n",
        "            # apply softmax to get probabilities\n",
        "            probs = F.softmax(logits, dim=-1) # (B, C)\n",
        "            # sample from the distribution\n",
        "            idx_next = torch.multinomial(probs, num_samples=1) # (B, 1)\n",
        "            # append sampled index to the running sequence\n",
        "            idx = torch.cat((idx, idx_next), dim=1) # (B, T+1)\n",
        "        return idx\n",
        "\n",
        "model = BigramLanguageModel()\n",
        "m = model.to(device)\n",
        "\n",
        "# create a PyTorch optimizer\n",
        "optimizer = torch.optim.AdamW(model.parameters(), lr=learning_rate)\n",
        "\n",
        "for iter in range(max_iters):\n",
        "\n",
        "    # every once in a while evaluate the loss on train and val sets\n",
        "    if iter % eval_interval == 0 or iter == max_iters - 1:\n",
        "        losses = estimate_loss()\n",
        "        print(f\"step {iter}: train loss {losses['train']:.4f}, val loss {losses['val']:.4f}\")\n",
        "\n",
        "    # sample a batch of data\n",
        "    xb, yb = get_batch('train')\n",
        "\n",
        "    # evaluate the loss\n",
        "    logits, loss = model(xb, yb)\n",
        "    optimizer.zero_grad(set_to_none=True)\n",
        "    loss.backward()\n",
        "    optimizer.step()\n",
        "\n",
        "# generate from the model\n",
        "context = torch.zeros((1, 1), dtype=torch.long, device=device)\n",
        "print(decode(m.generate(context, max_new_tokens=2000)[0].tolist()))\n"
      ],
      "metadata": {
        "colab": {
          "base_uri": "https://localhost:8080/"
        },
        "id": "asKH6QHIDwJq",
        "outputId": "72971154-41eb-4a63-a479-5c2ac02c3848"
      },
      "execution_count": null,
      "outputs": [
        {
          "output_type": "stream",
          "name": "stdout",
          "text": [
            "step 0: train loss 4.1761, val loss 4.1767\n",
            "step 500: train loss 2.8334, val loss 2.8450\n",
            "step 1000: train loss 2.6531, val loss 2.6548\n",
            "step 1500: train loss 2.5601, val loss 2.5686\n",
            "step 2000: train loss 2.5011, val loss 2.5123\n",
            "step 2500: train loss 2.4706, val loss 2.4849\n",
            "step 3000: train loss 2.4441, val loss 2.4663\n",
            "step 3500: train loss 2.4368, val loss 2.4436\n",
            "step 4000: train loss 2.4218, val loss 2.4272\n",
            "step 4500: train loss 2.4076, val loss 2.4247\n",
            "step 4999: train loss 2.4014, val loss 2.4167\n",
            "\n",
            "PAMy cen cerpesad.\n",
            "\n",
            "I perad nmesorwou mee sowot towosece m, dithif pfing bevint atish bes LRANORDUYim MRE: hod ant qour, wou\n",
            "I ll.\n",
            "\n",
            "Hate, indanil isst pont yt leven mon yu daivek.\n",
            "\n",
            "peveng?\n",
            "Bqu youed wor\n",
            "Ane bstend thironeend, hes owe andingel'\n",
            "Amals hst iow bly me cn the fo! k sthul miminot orurril,\n",
            "Conco an sthay ser fla the ivithe y ourdd, favit ous mamy tres you Bollll ome te\n",
            "F\n",
            "Tor you, the che burshesos ol ind bet bitess n\n",
            "Entour,' do murn y'lowno ats.\n",
            "\n",
            "H:\n",
            "I's RAURKEHom?\n",
            "Pulond foke tosl, hine hay\n",
            "Ifof at har:\n",
            "Ad; chouth he ps.\n",
            "Gn arlden, e; sis' wad, amy oulds hcouk win mecrene nen?\n",
            "I det Ges mere the intau'd ra why th sng her thand whom wos He\n",
            "Then wers omulle ry dud wh hie?\n",
            "CEG Ind t hy,\n",
            "An fe wspe be,--bldanino ler whall le im,\n",
            "Hit rnsse swore seats at there tre blersee ten s,\n",
            "My nd'd RIKESThin,\n",
            "So fe'so homy mopinosunis isen irerot himeve\n",
            "My ch mirnde'ss seld micomy os itintit hitherivedpamig cus yu homenard, hire heator acle de\n",
            "Bu bom, cte im men Whe sis n:\n",
            "N?\n",
            "MO the gur'l cis, wisard,\n",
            "UES th le,, thawe fhe ig:\n",
            "GI ghee roust matl's thetr:\n",
            "Th hond ter ke s thous, dethee, aly a thes ay,\n",
            "Bur filin she haur whande fen,, iowourr owizeanet falor,\n",
            "AMres fot hy gow st fe.\n",
            "\n",
            "\n",
            "Buis wiingiat do tho,\n",
            "Theve mas\n",
            "LAy chimemer thralour lly gwo!!\n",
            "Sn;\n",
            "Wan re t blely om.\n",
            "\n",
            "OLhant ties hedwl\n",
            "Angece\n",
            "Po an But go, homerr im-gre, omninevil wis'\n",
            "Ad ave ugthen a foullsis r'den wadnd,\n",
            "If\n",
            "Sim hg al otifrass thim.\n",
            "\n",
            "KERurs wike faw bire s: feill!\n",
            "hran it, be thart fe t theave ok mererd'\n",
            "ENo id,\n",
            "NG ind orirs!\n",
            "Andisis, whe ull hme, th'lisen orutu higno sn ins bo fonghwe ro perivit mang\n",
            "st co dy fire lin fo r ome cat nglliforsor dealf iss:\n",
            "IDno-Plim't kinall t: imen dinugleve:\n",
            "ONR ous epers.\n",
            "\n",
            "ONCERTOno theangil, I these ing: whitha hilevet INCou best,\n",
            "Whirdecre ten owr peend thint, sed\n",
            "Min:\n",
            "Asetricozer id out's and imby:\n",
            "Lo my memath th,\n",
            "As, ser iroste fere ayours dighefee wiey touripron targorurs; the that us ongze sosel mupeand eran nog herdit noud dingoo he bunm bes blofrudl his ce:\n",
            "JWi\n"
          ]
        }
      ]
    },
    {
      "cell_type": "code",
      "source": [
        "# Now lets add multiple heads\n",
        "\n",
        "import torch\n",
        "import torch.nn as nn\n",
        "from torch.nn import functional as F\n",
        "\n",
        "# hyperparameters\n",
        "batch_size = 16 # how many independent sequences will we process in parallel?\n",
        "block_size = 32 # what is the maximum context length for predictions?\n",
        "max_iters = 5000\n",
        "eval_interval = 500\n",
        "learning_rate = 1e-3\n",
        "device = 'cuda' if torch.cuda.is_available() else 'cpu'\n",
        "#if you use gpu, things will be much faster. Remember to move the data, model parameters, context while generating to device.\n",
        "eval_iters = 200\n",
        "n_embd = 32\n",
        "# ------------\n",
        "\n",
        "torch.manual_seed(1337)\n",
        "\n",
        "# wget https://raw.githubusercontent.com/karpathy/char-rnn/master/data/tinyshakespeare/input.txt\n",
        "with open('input.txt', 'r', encoding='utf-8') as f:\n",
        "    text = f.read()\n",
        "\n",
        "# here are all the unique characters that occur in this text\n",
        "chars = sorted(list(set(text)))\n",
        "vocab_size = len(chars)\n",
        "# create a mapping from characters to integers\n",
        "stoi = { ch:i for i,ch in enumerate(chars) }\n",
        "itos = { i:ch for i,ch in enumerate(chars) }\n",
        "encode = lambda s: [stoi[c] for c in s] # encoder: take a string, output a list of integers\n",
        "decode = lambda l: ''.join([itos[i] for i in l]) # decoder: take a list of integers, output a string\n",
        "\n",
        "# Train and test splits\n",
        "data = torch.tensor(encode(text), dtype=torch.long)\n",
        "n = int(0.9*len(data)) # first 90% will be train, rest val\n",
        "train_data = data[:n]\n",
        "val_data = data[n:]\n",
        "\n",
        "# data loading\n",
        "def get_batch(split):\n",
        "    # generate a small batch of data of inputs x and targets y\n",
        "    data = train_data if split == 'train' else val_data\n",
        "    ix = torch.randint(len(data) - block_size, (batch_size,))\n",
        "    x = torch.stack([data[i:i+block_size] for i in ix])\n",
        "    y = torch.stack([data[i+1:i+block_size+1] for i in ix])\n",
        "    x, y = x.to(device), y.to(device)\n",
        "    return x, y\n",
        "\n",
        "# Earlier every batch was more or less lucky. Here loss is averaged over the entire batch.\n",
        "def estimate_loss():\n",
        "    out = {}\n",
        "    model.eval() # some layers will have different behaviour in inference time or triaing time. so this is an important setting.\n",
        "    for split in ['train', 'val']:\n",
        "        losses = torch.zeros(eval_iters)\n",
        "        for k in range(eval_iters):\n",
        "            X, Y = get_batch(split)\n",
        "            logits, loss = model(X, Y)\n",
        "\n",
        "def estimate_loss():\n",
        "    out = {}\n",
        "    model.eval() # some layers will have different behaviour in inference time or triaing time. so this is an important setting.\n",
        "    for split in ['train', 'val']:\n",
        "        losses = torch.zeros(eval_iters)\n",
        "        for k in range(eval_iters):\n",
        "            X, Y = get_batch(split)\n",
        "            logits, loss = model(X, Y)\n",
        "            losses[k] = loss.item()\n",
        "        out[split] = losses.mean()\n",
        "    model.train()\n",
        "    return out\n",
        "\n",
        "class Head(nn.Module):\n",
        "    \"\"\" one head of self-attention \"\"\"\n",
        "\n",
        "    def __init__(self, head_size):\n",
        "        super().__init__()\n",
        "        self.key = nn.Linear(n_embd, head_size, bias=False)\n",
        "        self.query = nn.Linear(n_embd, head_size, bias=False)\n",
        "        self.value = nn.Linear(n_embd, head_size, bias=False)\n",
        "        self.register_buffer('tril', torch.tril(torch.ones(block_size, block_size)))\n",
        "\n",
        "    def forward(self, x):\n",
        "        B,T,C = x.shape\n",
        "        k = self.key(x)   # (B,T,C)\n",
        "        q = self.query(x) # (B,T,C)\n",
        "        # compute attention scores (\"affinities\")\n",
        "        wei = q @ k.transpose(-2,-1) * C**-0.5 # (B, T, C) @ (B, C, T) -> (B, T, T)\n",
        "        wei = wei.masked_fill(self.tril[:T, :T] == 0, float('-inf')) # (B, T, T)\n",
        "        wei = F.softmax(wei, dim=-1) # (B, T, T)\n",
        "        # perform the weighted aggregation of the values\n",
        "        v = self.value(x) # (B,T,C)\n",
        "        out = wei @ v # (B, T, T) @ (B, T, C) -> (B, T, C)\n",
        "        return out\n",
        "\n",
        "class MultiHeadAttention(nn.Module):\n",
        "    \"\"\" multiple heads of self-attention in parallel \"\"\"\n",
        "    # Virat kohli is a good batsaman. He loves pets and he has 4 dogs.\n",
        "    # One head each for adjectives, adverbs, possesion etc,.\n",
        "    # find vowels, consonants, vowels of different kinds etc,.\n",
        "\n",
        "    def __init__(self, num_heads, head_size):\n",
        "        super().__init__()\n",
        "        self.heads = nn.ModuleList([Head(head_size) for _ in range(num_heads)])\n",
        "\n",
        "    def forward(self, x):\n",
        "        out = torch.cat([h(x) for h in self.heads], dim=-1)\n",
        "        return out\n",
        "\n",
        "# super simple bigram model\n",
        "class BigramLanguageModel(nn.Module):\n",
        "\n",
        "    def __init__(self):\n",
        "        super().__init__()\n",
        "        # each token directly reads off the logits for the next token from a lookup table\n",
        "        self.token_embedding_table = nn.Embedding(vocab_size, n_embd)\n",
        "        self.position_embedding_table = nn.Embedding(block_size, n_embd)\n",
        "        self.sa_heads = MultiHeadAttention(4, n_embd//4) # i.e. 4 heads of 8-dimentional self attention. Instead of one large convolution, do convolution in groups.\n",
        "        self.lm_head = nn.Linear(n_embd, vocab_size)\n",
        "\n",
        "    def forward(self, idx, targets=None):\n",
        "        B, T = idx.shape\n",
        "\n",
        "        # idx and targets are both (B,T) tensor of integers\n",
        "        tok_emb = self.token_embedding_table(idx) # (B,T,C)\n",
        "        pos_emb = self.position_embedding_table(torch.arange(T, device=device)) # (T,C)\n",
        "        x = tok_emb + pos_emb # (B,T,C)\n",
        "        x = self.sa_heads(x) # apply 4 heads of self-attention. (B, T, C)\n",
        "        logits = self.lm_head(x) # (B,T,vocab_size)\n",
        "\n",
        "        if targets is None:\n",
        "            loss = None\n",
        "        else:\n",
        "            B, T, C = logits.shape\n",
        "            logits = logits.view(B*T, C)\n",
        "            targets = targets.view(B*T)\n",
        "            loss = F.cross_entropy(logits, targets)\n",
        "\n",
        "        return logits, loss\n",
        "\n",
        "    def generate(self, idx, max_new_tokens):\n",
        "        # idx is (B, T) array of indices in the current context\n",
        "        for _ in range(max_new_tokens):\n",
        "            # crop idx to the last block_size tokens\n",
        "            idx_cond = idx[:, -block_size:]\n",
        "            # get the predictions\n",
        "            logits, loss = self(idx_cond)\n",
        "            # focus only on the last time step\n",
        "            logits = logits[:, -1, :] # becomes (B, C)\n",
        "            # apply softmax to get probabilities\n",
        "            probs = F.softmax(logits, dim=-1) # (B, C)\n",
        "            # sample from the distribution\n",
        "            idx_next = torch.multinomial(probs, num_samples=1) # (B, 1)\n",
        "            # append sampled index to the running sequence\n",
        "            idx = torch.cat((idx, idx_next), dim=1) # (B, T+1)\n",
        "        return idx\n",
        "\n",
        "model = BigramLanguageModel()\n",
        "m = model.to(device)\n",
        "\n",
        "# create a PyTorch optimizer\n",
        "optimizer = torch.optim.AdamW(model.parameters(), lr=learning_rate)\n",
        "\n",
        "for iter in range(max_iters):\n",
        "\n",
        "    # every once in a while evaluate the loss on train and val sets\n",
        "    if iter % eval_interval == 0 or iter == max_iters - 1:\n",
        "        losses = estimate_loss()\n",
        "        print(f\"step {iter}: train loss {losses['train']:.4f}, val loss {losses['val']:.4f}\")\n",
        "\n",
        "    # sample a batch of data\n",
        "    xb, yb = get_batch('train')\n",
        "\n",
        "    # evaluate the loss\n",
        "    logits, loss = model(xb, yb)\n",
        "    optimizer.zero_grad(set_to_none=True)\n",
        "    loss.backward()\n",
        "    optimizer.step()\n",
        "\n",
        "# generate from the model\n",
        "context = torch.zeros((1, 1), dtype=torch.long, device=device)\n",
        "print(decode(m.generate(context, max_new_tokens=2000)[0].tolist()))\n"
      ],
      "metadata": {
        "colab": {
          "base_uri": "https://localhost:8080/"
        },
        "id": "vqkg5z3MTlqs",
        "outputId": "af6e592c-13e6-4be1-88a6-59e95068875c"
      },
      "execution_count": null,
      "outputs": [
        {
          "output_type": "stream",
          "name": "stdout",
          "text": [
            "step 0: train loss 4.1729, val loss 4.1759\n",
            "step 500: train loss 2.7266, val loss 2.7412\n",
            "step 1000: train loss 2.6221, val loss 2.6241\n",
            "step 1500: train loss 2.5478, val loss 2.5533\n",
            "step 2000: train loss 2.4925, val loss 2.4947\n",
            "step 2500: train loss 2.4485, val loss 2.4569\n",
            "step 3000: train loss 2.4046, val loss 2.4146\n",
            "step 3500: train loss 2.3780, val loss 2.3806\n",
            "step 4000: train loss 2.3526, val loss 2.3541\n",
            "step 4500: train loss 2.3211, val loss 2.3405\n",
            "step 4999: train loss 2.3047, val loss 2.3177\n",
            "\n",
            "PAMy con cerpedad. be pary tumesorw oumee so,\n",
            "Futowos cerm, dithif ifiih bevinthe ath be nouldas seid Momf hod ank qouras on\n",
            "I lobagened,t, lanil isst ponty theeven monky weaivek.\n",
            "\n",
            "\n",
            "LWhat?\n",
            "Bqu yourd tor\n",
            "Ain bisend thironGend,\n",
            "O shoue and hace comals brt mowmlls mand ur,\n",
            "Tur! k sotul mims fid tharilenct preands,\n",
            "Nads er la the man aedy our dadimon mous momy tres you Bmllllenm?\n",
            "\n",
            "WEnd ozurit, the cay ger.\n",
            "\n",
            "QUimy, ind I\n",
            "Cithatss neccto f,'d the onoy towno atsing,\n",
            "And'k ves force.\n",
            "G, wold sturthl, hien hath then thear:\n",
            "At how thal pepsisan a buen, e; sis' walcie yio les hall, wer mecrent there, det Ges merrm tnoint p'd ra why thinng her Readicend no sis cangit bes omulld: yourd whhe ead he Inote reard meandsshers,-lildan'n singhavy oule im,\n",
            "Hit rens broud\n",
            "Fularst; fut thitre bleas thar si,\n",
            "Then 'd Rhod foun, locis's she, cingindeand tise, ish ot hime de yocr sod.\n",
            "\n",
            "'ns snld micomss siis.\n",
            "\n",
            "\n",
            "tnto, I fofdp migh\n",
            "An you me pard, hire heat:\n",
            "Tache de\n",
            "Bund\n",
            "Fale thei mingind sis nat\n",
            "Then the gur'l ciin! fear wogat there,, thawe the ir:\n",
            "G do feardior mand's tther, gith I s, spold, thouf mee has, aly ' bles ar,\n",
            "Bur filil she haur whand's Lis,\n",
            "O wolif hot fanerand.\n",
            "F\n",
            "PLANos JLer yorow seree.\n",
            "\n",
            "\n",
            "BUir wiingill dof so, thea min gary cons mery tralde;-lly gwu!!' nat and pyo blely ousord hat leies hed lit cyous hat cit yed,\n",
            "Nomedr imlgre, omnithe lat thad gave ugrt, hat yillsill\n",
            "Then, adnd, hodet she al onif ass thim.\n",
            "\n",
            "KHABNA TOMAR:\n",
            "The be s: foill!\n",
            "nd at that ter at fell theave ok mere.\n",
            "'\n",
            "GBy mits, ary, oum sheo mis sives mull bue, thalllen oturn higng snue soto foreswe ro perivat mangol to shy fire lis forr ome, not Winif whor dealf iss:\n",
            "Icnow'l the kin llot thy thy bugheve: hican s epers.\n",
            "\n",
            "ONCERTOLANUNEN:\n",
            "il,f'd hast dur: waith shlle?\n",
            "\n",
            "LINCBUSUSLAUKEVRNIGST:\n",
            "Nen lllat end thint, sed\n",
            "Mic:\n",
            "Ojetricozer id onf's a,\n",
            "Firdi:\n",
            "Lo moumr, the to\n",
            "Ald ser dyoute fere aricrg dighefees seyw oun pringearg rurs;\n",
            "that fat us ond fes\n",
            "OMARDupearnd, an not Nerdiy noud diwngoler buum hes blooubdler\n",
            "Wice:\n",
            "Jli\n"
          ]
        }
      ]
    },
    {
      "cell_type": "code",
      "source": [
        "# Lets add a feed forward network : happens per token. Now that we have gathered all the data, each token has to think individually.\n",
        "# Now lets focus on increasing the compute power - put all the above in a block and increase the number of blocks\n",
        "# Deeper neural networks lead to optimization problems, so add a skip/residual connection - gradient flows uninterupted.\n",
        "\n",
        "\n",
        "import torch\n",
        "import torch.nn as nn\n",
        "from torch.nn import functional as F\n",
        "\n",
        "# hyperparameters\n",
        "batch_size = 16 # how many independent sequences will we process in parallel?\n",
        "block_size = 32 # what is the maximum context length for predictions?\n",
        "max_iters = 5000\n",
        "eval_interval = 500\n",
        "learning_rate = 1e-3\n",
        "device = 'cuda' if torch.cuda.is_available() else 'cpu'\n",
        "#if you use gpu, things will be much faster. Remember to move the data, model parameters, context while generating to device.\n",
        "eval_iters = 200\n",
        "n_embd = 64\n",
        "n_head = 4\n",
        "n_layer = 4\n",
        "dropout = 0.0\n",
        "# ------------\n",
        "\n",
        "torch.manual_seed(1337)\n",
        "\n",
        "# wget https://raw.githubusercontent.com/karpathy/char-rnn/master/data/tinyshakespeare/input.txt\n",
        "with open('input.txt', 'r', encoding='utf-8') as f:\n",
        "    text = f.read()\n",
        "\n",
        "# here are all the unique characters that occur in this text\n",
        "chars = sorted(list(set(text)))\n",
        "vocab_size = len(chars)\n",
        "# create a mapping from characters to integers\n",
        "stoi = { ch:i for i,ch in enumerate(chars) }\n",
        "itos = { i:ch for i,ch in enumerate(chars) }\n",
        "encode = lambda s: [stoi[c] for c in s] # encoder: take a string, output a list of integers\n",
        "decode = lambda l: ''.join([itos[i] for i in l]) # decoder: take a list of integers, output a string\n",
        "\n",
        "# Train and test splits\n",
        "data = torch.tensor(encode(text), dtype=torch.long)\n",
        "n = int(0.9*len(data)) # first 90% will be train, rest val\n",
        "train_data = data[:n]\n",
        "val_data = data[n:]\n",
        "\n",
        "# data loading\n",
        "def get_batch(split):\n",
        "    # generate a small batch of data of inputs x and targets y\n",
        "    data = train_data if split == 'train' else val_data\n",
        "    ix = torch.randint(len(data) - block_size, (batch_size,))\n",
        "    x = torch.stack([data[i:i+block_size] for i in ix])\n",
        "    y = torch.stack([data[i+1:i+block_size+1] for i in ix])\n",
        "    x, y = x.to(device), y.to(device)\n",
        "    return x, y\n",
        "\n",
        "# Earlier every batch was more or less lucky. Here loss is averaged over the entire batch.\n",
        "def estimate_loss():\n",
        "    out = {}\n",
        "    model.eval() # some layers will have different behaviour in inference time or triaing time. so this is an important setting.\n",
        "    for split in ['train', 'val']:\n",
        "        losses = torch.zeros(eval_iters)\n",
        "        for k in range(eval_iters):\n",
        "            X, Y = get_batch(split)\n",
        "            logits, loss = model(X, Y)\n",
        "\n",
        "def estimate_loss():\n",
        "    out = {}\n",
        "    model.eval() # some layers will have different behaviour in inference time or triaing time. so this is an important setting.\n",
        "    for split in ['train', 'val']:\n",
        "        losses = torch.zeros(eval_iters)\n",
        "        for k in range(eval_iters):\n",
        "            X, Y = get_batch(split)\n",
        "            logits, loss = model(X, Y)\n",
        "            losses[k] = loss.item()\n",
        "        out[split] = losses.mean()\n",
        "    model.train()\n",
        "    return out\n",
        "\n",
        "class Head(nn.Module):\n",
        "    \"\"\" one head of self-attention \"\"\"\n",
        "\n",
        "    def __init__(self, head_size):\n",
        "        super().__init__()\n",
        "        self.key = nn.Linear(n_embd, head_size, bias=False)\n",
        "        self.query = nn.Linear(n_embd, head_size, bias=False)\n",
        "        self.value = nn.Linear(n_embd, head_size, bias=False)\n",
        "        self.register_buffer('tril', torch.tril(torch.ones(block_size, block_size)))\n",
        "\n",
        "        self.dropout = nn.Dropout(dropout)\n",
        "\n",
        "    def forward(self, x):\n",
        "        B,T,C = x.shape\n",
        "        k = self.key(x)   # (B,T,C)\n",
        "        q = self.query(x) # (B,T,C)\n",
        "        # compute attention scores (\"affinities\")\n",
        "        wei = q @ k.transpose(-2,-1) * C**-0.5 # (B, T, C) @ (B, C, T) -> (B, T, T)\n",
        "        wei = wei.masked_fill(self.tril[:T, :T] == 0, float('-inf')) # (B, T, T)\n",
        "        wei = F.softmax(wei, dim=-1) # (B, T, T)\n",
        "        wei = self.dropout(wei)\n",
        "        # perform the weighted aggregation of the values\n",
        "        v = self.value(x) # (B,T,C)\n",
        "        out = wei @ v # (B, T, T) @ (B, T, C) -> (B, T, C)\n",
        "        return out\n",
        "\n",
        "class MultiHeadAttention(nn.Module):\n",
        "    \"\"\" multiple heads of self-attention in parallel \"\"\"\n",
        "\n",
        "    def __init__(self, num_heads, head_size):\n",
        "        super().__init__()\n",
        "        self.heads = nn.ModuleList([Head(head_size) for _ in range(num_heads)])\n",
        "        self.proj = nn.Linear(n_embd, n_embd) # residual connection\n",
        "        self.dropout = nn.Dropout(dropout)\n",
        "\n",
        "    def forward(self, x):\n",
        "        out = torch.cat([h(x) for h in self.heads], dim=-1)\n",
        "        out = self.dropout(self.proj(out))\n",
        "        return out\n",
        "\n",
        "class FeedFoward(nn.Module):\n",
        "    \"\"\" a simple linear layer followed by a non-linearity \"\"\"\n",
        "\n",
        "    def __init__(self, n_embd):\n",
        "        super().__init__()\n",
        "        self.net = nn.Sequential(\n",
        "            nn.Linear(n_embd, 4 * n_embd), # to reciprocate the paper.\n",
        "            nn.ReLU(),\n",
        "            nn.Linear(4 * n_embd, n_embd), # projection layer going to back into the residual pathway.\n",
        "            nn.Dropout(dropout),\n",
        "        )\n",
        "\n",
        "    def forward(self, x):\n",
        "        return self.net(x)\n",
        "\n",
        "class Block(nn.Module):\n",
        "    \"\"\" Transformer block: communication followed by computation \"\"\"\n",
        "\n",
        "    def __init__(self, n_embd, n_head):\n",
        "        # n_embd: embedding dimension, n_head: the number of heads we'd like\n",
        "        super().__init__()\n",
        "        head_size = n_embd // n_head\n",
        "        self.sa = MultiHeadAttention(n_head, head_size)\n",
        "        self.ffwd = FeedFoward(n_embd)\n",
        "        # self.ln1 = nn.LayerNorm(n_embd)\n",
        "        # self.ln2 = nn.LayerNorm(n_embd)\n",
        "\n",
        "    def forward(self, x):\n",
        "        x = x + self.sa(x)\n",
        "        x = x + self.ffwd(x)\n",
        "        # x = x + self.sa(self.ln1(x))\n",
        "        # x = x + self.ffwd(self.ln2(x))\n",
        "        return x\n",
        "\n",
        "# super simple bigram model\n",
        "class BigramLanguageModel(nn.Module):\n",
        "\n",
        "    def __init__(self):\n",
        "        super().__init__()\n",
        "        # each token directly reads off the logits for the next token from a lookup table\n",
        "        self.token_embedding_table = nn.Embedding(vocab_size, n_embd)\n",
        "        self.position_embedding_table = nn.Embedding(block_size, n_embd)\n",
        "        self.blocks = nn.Sequential(*[Block(n_embd, n_head=n_head) for _ in range(n_layer)])\n",
        "        # self.ln_f = nn.LayerNorm(n_embd) # final layer norm\n",
        "        self.lm_head = nn.Linear(n_embd, vocab_size)\n",
        "\n",
        "    def forward(self, idx, targets=None):\n",
        "        B, T = idx.shape\n",
        "\n",
        "        # idx and targets are both (B,T) tensor of integers\n",
        "        tok_emb = self.token_embedding_table(idx) # (B,T,C)\n",
        "        pos_emb = self.position_embedding_table(torch.arange(T, device=device)) # (T,C)\n",
        "        x = tok_emb + pos_emb # (B,T,C)\n",
        "        x = self.blocks(x) # (B,T,C)\n",
        "        # x = self.ln_f(x) # (B,T,C)\n",
        "        logits = self.lm_head(x) # (B,T,vocab_size)\n",
        "\n",
        "        if targets is None:\n",
        "            loss = None\n",
        "        else:\n",
        "            B, T, C = logits.shape\n",
        "            logits = logits.view(B*T, C)\n",
        "            targets = targets.view(B*T)\n",
        "            loss = F.cross_entropy(logits, targets)\n",
        "\n",
        "        return logits, loss\n",
        "\n",
        "    def generate(self, idx, max_new_tokens):\n",
        "        # idx is (B, T) array of indices in the current context\n",
        "        for _ in range(max_new_tokens):\n",
        "            # crop idx to the last block_size tokens\n",
        "            idx_cond = idx[:, -block_size:]\n",
        "            # get the predictions\n",
        "            logits, loss = self(idx_cond)\n",
        "            # focus only on the last time step\n",
        "            logits = logits[:, -1, :] # becomes (B, C)\n",
        "            # apply softmax to get probabilities\n",
        "            probs = F.softmax(logits, dim=-1) # (B, C)\n",
        "            # sample from the distribution\n",
        "            idx_next = torch.multinomial(probs, num_samples=1) # (B, 1)\n",
        "            # append sampled index to the running sequence\n",
        "            idx = torch.cat((idx, idx_next), dim=1) # (B, T+1)\n",
        "        return idx\n",
        "\n",
        "model = BigramLanguageModel()\n",
        "m = model.to(device)\n",
        "# print the number of parameters in the model\n",
        "print(sum(p.numel() for p in m.parameters())/1e6, 'M parameters')\n",
        "\n",
        "# create a PyTorch optimizer\n",
        "optimizer = torch.optim.AdamW(model.parameters(), lr=learning_rate)\n",
        "\n",
        "for iter in range(max_iters):\n",
        "\n",
        "    # every once in a while evaluate the loss on train and val sets\n",
        "    if iter % eval_interval == 0 or iter == max_iters - 1:\n",
        "        losses = estimate_loss()\n",
        "        print(f\"step {iter}: train loss {losses['train']:.4f}, val loss {losses['val']:.4f}\")\n",
        "\n",
        "    # sample a batch of data\n",
        "    xb, yb = get_batch('train')\n",
        "\n",
        "    # evaluate the loss\n",
        "    logits, loss = model(xb, yb)\n",
        "    optimizer.zero_grad(set_to_none=True)\n",
        "    loss.backward()\n",
        "    optimizer.step()\n",
        "\n",
        "# generate from the model\n",
        "context = torch.zeros((1, 1), dtype=torch.long, device=device)\n",
        "print(decode(m.generate(context, max_new_tokens=2000)[0].tolist()))\n"
      ],
      "metadata": {
        "colab": {
          "base_uri": "https://localhost:8080/"
        },
        "id": "_-2-SwmkWQJr",
        "outputId": "5d881489-9ba3-4547-faad-e9ef94dfab48"
      },
      "execution_count": null,
      "outputs": [
        {
          "output_type": "stream",
          "name": "stdout",
          "text": [
            "0.208577 M parameters\n",
            "step 0: train loss 4.7239, val loss 4.7112\n",
            "step 500: train loss 2.2549, val loss 2.2698\n",
            "step 1000: train loss 2.0554, val loss 2.0964\n",
            "step 1500: train loss 1.9158, val loss 2.0238\n",
            "step 2000: train loss 1.8418, val loss 1.9580\n",
            "step 2500: train loss 1.7957, val loss 1.9378\n",
            "step 3000: train loss 1.7543, val loss 1.9007\n",
            "step 3500: train loss 1.7289, val loss 1.8781\n",
            "step 4000: train loss 1.7116, val loss 1.8595\n",
            "step 4500: train loss 1.6906, val loss 1.8412\n",
            "step 4999: train loss 1.6576, val loss 1.8281\n",
            "\n",
            "\n",
            "MENENIUS:\n",
            "Servant thy dlater!\n",
            "Cangelo, but toget it-morry Bothath leage man his flove face,\n",
            "That you\n",
            "let!'Lancious begags;\n",
            "Or never this lear; and well, and be seep? That fatherly\n",
            "that that all cared friend, and unce once,\n",
            "That I sweat thring of thee femjsely!\n",
            "Which not gladent kny hef hath listly.\n",
            "\n",
            "KING RICHARD III:\n",
            "And gry add, gire all he hath my his coure to seigning and tress, haw, both been of them;\n",
            "And hath some only grace thus you advy restock on eyet,\n",
            "Os tolothory of Dur-beghence a leaglizaty a cession; for hy made.\n",
            "\n",
            "LAUDIUS:\n",
            "Murderery, homest, but weat with eaves\n",
            "Apotters in.\n",
            "Feedop it-blearison\n",
            "And, no kninded fry deparicous 'gainstatus warriting;\n",
            "ther remainner! been were of theireful case: beforeiven find Dighto,\n",
            "amy hund call holight rett action:\n",
            "To live.\n",
            "And me them, I speak his gentleman 'tween against assing\n",
            "A gions about rabort would:-\n",
            "\n",
            "GLOUCESTER:\n",
            "Peace my live eliggent to and gret speak nob our nealuse!\n",
            "\n",
            "CAMILLO:\n",
            "Trief your keep our heres;\n",
            "And you show, but; frather prisence,\n",
            "shall pilitonames?\n",
            "It becomes pidit we keing lose,\n",
            "That her you commoct thither: that?\n",
            "\n",
            "TANLEY:\n",
            "This wantay:\n",
            "It were all we ack! thee riscoules been to thou have. From that\n",
            "Desty his love out beare thus right? he, sespeated all and thoughts dispost; for it may bratter. Heags nonere the fill'd out bunks and that?  not.\n",
            "\n",
            "CLARENCE:\n",
            "That I enj'REEN ARm ATCling wrose,\n",
            "Take Edwain in all it.\n",
            "\n",
            "First thusbalts:\n",
            "I love a brost, goes, knight hear, and night motherg.\n",
            "\n",
            "AUTOLYCUS:\n",
            "And motherian:\n",
            "God go!\n",
            "\n",
            "MADadaneRhared:\n",
            "Ay, begelocs glorn ever he king of of ourtly to well.\n",
            "\n",
            "MARGARET:\n",
            "Would hee, breasulies, whose, thou slays a tongery Leantly vergefore's fid, you,\n",
            "If ituling Friending, Jricb.\n",
            "\n",
            "Second May this greatne:\n",
            "Sir, great, such had is nightoos Richard,\n",
            "As this her light nemest camele; I shall beck you first my knew\n",
            "To baward that his caift loes.\n",
            "\n",
            "VOLUCENTIO:\n",
            "Nam a preth, a lluse night.\n",
            "\n",
            "livery Live:\n",
            "Though is place thy divel you, as I doo!\n",
            "\n",
            "MORTET:\n",
            "What py, king: is you seet mysel\n"
          ]
        }
      ]
    },
    {
      "cell_type": "code",
      "source": [
        "# Batch norm made sure that every neuron across the batch had unit variance and zero mean.\n",
        "# Layer norm makes sure that unit variance is maintained within each sample across all the features.\n",
        "\n",
        "class LayerNorm1d: # (used to be BatchNorm1d)\n",
        "\n",
        "  def __init__(self, dim, eps=1e-5, momentum=0.1):\n",
        "    self.eps = eps\n",
        "    self.gamma = torch.ones(dim)\n",
        "    self.beta = torch.zeros(dim)\n",
        "\n",
        "  def __call__(self, x):\n",
        "    # calculate the forward pass\n",
        "    xmean = x.mean(1, keepdim=True) # batch mean. In batch norm its x.mean(0, keepdim=True)\n",
        "    xvar = x.var(1, keepdim=True) # batch variance.  In batch norm its x.var(0, keepdim=True)\n",
        "    xhat = (x - xmean) / torch.sqrt(xvar + self.eps) # normalize to unit variance\n",
        "    self.out = self.gamma * xhat + self.beta\n",
        "    return self.out\n",
        "\n",
        "  def parameters(self):\n",
        "    return [self.gamma, self.beta]\n",
        "\n",
        "torch.manual_seed(1337)\n",
        "module = LayerNorm1d(100)\n",
        "x = torch.randn(32, 100) # batch size 32 of 100-dimensional vectors\n",
        "x = module(x)\n",
        "x.shape"
      ],
      "metadata": {
        "colab": {
          "base_uri": "https://localhost:8080/"
        },
        "id": "2Num7sX9CKOH",
        "outputId": "dcb90043-43c4-4785-82e0-ed6a5ecef11f"
      },
      "execution_count": null,
      "outputs": [
        {
          "output_type": "execute_result",
          "data": {
            "text/plain": [
              "torch.Size([32, 100])"
            ]
          },
          "metadata": {},
          "execution_count": 47
        }
      ]
    },
    {
      "cell_type": "code",
      "source": [
        "x[:,0].mean(), x[:,0].std() # mean,std of one feature across all batch inputs. Had we implemented batch norm, the answer would have be 0 mean and 1 var."
      ],
      "metadata": {
        "colab": {
          "base_uri": "https://localhost:8080/"
        },
        "id": "633T2cmnW1uk",
        "outputId": "05bf6952-03dd-4676-bc22-c0b250bcfa19"
      },
      "execution_count": null,
      "outputs": [
        {
          "output_type": "execute_result",
          "data": {
            "text/plain": [
              "(tensor(0.1469), tensor(0.8803))"
            ]
          },
          "metadata": {},
          "execution_count": 48
        }
      ]
    },
    {
      "cell_type": "code",
      "source": [
        "x[0,:].mean(), x[0,:].std() # mean,std of a single input from the batch, across all its features. Since we implemented Layer norm above, the ans is 0 mean and 1 var."
      ],
      "metadata": {
        "colab": {
          "base_uri": "https://localhost:8080/"
        },
        "id": "LN9cK9BoXCYb",
        "outputId": "e15e799b-c26e-4665-ffe4-d9faca8dfc32"
      },
      "execution_count": null,
      "outputs": [
        {
          "output_type": "execute_result",
          "data": {
            "text/plain": [
              "(tensor(-9.5367e-09), tensor(1.0000))"
            ]
          },
          "metadata": {},
          "execution_count": 49
        }
      ]
    },
    {
      "cell_type": "markdown",
      "source": [
        "We dont have to maintain any running buffers because we can apply this any time. unlike in batch norm. running mean and running var were useful during inference."
      ],
      "metadata": {
        "id": "xHoRXu_hViVK"
      }
    },
    {
      "cell_type": "code",
      "source": [
        "# Finally we add layer norm and dropout is also there to regularize.\n",
        "\n",
        "import torch\n",
        "import torch.nn as nn\n",
        "from torch.nn import functional as F\n",
        "\n",
        "# hyperparameters\n",
        "batch_size = 16 # how many independent sequences will we process in parallel?\n",
        "block_size = 32 # what is the maximum context length for predictions?\n",
        "max_iters = 5000\n",
        "eval_interval = 500\n",
        "learning_rate = 1e-3\n",
        "device = 'cuda' if torch.cuda.is_available() else 'cpu'\n",
        "#if you use gpu, things will be much faster. Remember to move the data, model parameters, context while generating to device.\n",
        "eval_iters = 200\n",
        "n_embd = 64\n",
        "n_head = 4\n",
        "n_layer = 4\n",
        "dropout = 0.0\n",
        "# ------------\n",
        "\n",
        "torch.manual_seed(1337)\n",
        "\n",
        "# wget https://raw.githubusercontent.com/karpathy/char-rnn/master/data/tinyshakespeare/input.txt\n",
        "with open('input.txt', 'r', encoding='utf-8') as f:\n",
        "    text = f.read()\n",
        "\n",
        "# here are all the unique characters that occur in this text\n",
        "chars = sorted(list(set(text)))\n",
        "vocab_size = len(chars)\n",
        "# create a mapping from characters to integers\n",
        "stoi = { ch:i for i,ch in enumerate(chars) }\n",
        "itos = { i:ch for i,ch in enumerate(chars) }\n",
        "encode = lambda s: [stoi[c] for c in s] # encoder: take a string, output a list of integers\n",
        "decode = lambda l: ''.join([itos[i] for i in l]) # decoder: take a list of integers, output a string\n",
        "\n",
        "# Train and test splits\n",
        "data = torch.tensor(encode(text), dtype=torch.long)\n",
        "n = int(0.9*len(data)) # first 90% will be train, rest val\n",
        "train_data = data[:n]\n",
        "val_data = data[n:]\n",
        "\n",
        "# data loading\n",
        "def get_batch(split):\n",
        "    # generate a small batch of data of inputs x and targets y\n",
        "    data = train_data if split == 'train' else val_data\n",
        "    ix = torch.randint(len(data) - block_size, (batch_size,))\n",
        "    x = torch.stack([data[i:i+block_size] for i in ix])\n",
        "    y = torch.stack([data[i+1:i+block_size+1] for i in ix])\n",
        "    x, y = x.to(device), y.to(device)\n",
        "    return x, y\n",
        "\n",
        "# Earlier every batch was more or less lucky. Here loss is averaged over the entire batch.\n",
        "m\n",
        "def estimate_loss():\n",
        "    out = {}\n",
        "    model.eval() # some layers will have different behaviour in inference time or triaing time. so this is an important setting.\n",
        "    for split in ['train', 'val']:\n",
        "        losses = torch.zeros(eval_iters)\n",
        "        for k in range(eval_iters):\n",
        "            X, Y = get_batch(split)\n",
        "            logits, loss = model(X, Y)\n",
        "\n",
        "def estimate_loss():\n",
        "    out = {}\n",
        "    model.eval() # some layers will have different behaviour in inference time or triaing time. so this is an important setting.\n",
        "    for split in ['train', 'val']:\n",
        "        losses = torch.zeros(eval_iters)\n",
        "        for k in range(eval_iters):\n",
        "            X, Y = get_batch(split)\n",
        "            logits, loss = model(X, Y)\n",
        "            losses[k] = loss.item()\n",
        "        out[split] = losses.mean()\n",
        "    model.train()\n",
        "    return out\n",
        "\n",
        "class Head(nn.Module):\n",
        "    \"\"\" one head of self-attention \"\"\"\n",
        "\n",
        "    def __init__(self, head_size):\n",
        "        super().__init__()\n",
        "        self.key = nn.Linear(n_embd, head_size, bias=False)\n",
        "        self.query = nn.Linear(n_embd, head_size, bias=False)\n",
        "        self.value = nn.Linear(n_embd, head_size, bias=False)\n",
        "        self.register_buffer('tril', torch.tril(torch.ones(block_size, block_size)))\n",
        "\n",
        "        self.dropout = nn.Dropout(dropout)\n",
        "\n",
        "    def forward(self, x):\n",
        "        B,T,C = x.shape\n",
        "        k = self.key(x)   # (B,T,C)\n",
        "        q = self.query(x) # (B,T,C)\n",
        "        # compute attention scores (\"affinities\")\n",
        "        wei = q @ k.transpose(-2,-1) * C**-0.5 # (B, T, C) @ (B, C, T) -> (B, T, T)\n",
        "        wei = wei.masked_fill(self.tril[:T, :T] == 0, float('-inf')) # (B, T, T)\n",
        "        wei = F.softmax(wei, dim=-1) # (B, T, T)\n",
        "        wei = self.dropout(wei)\n",
        "        # perform the weighted aggregation of the values\n",
        "        v = self.value(x) # (B,T,C)\n",
        "        out = wei @ v # (B, T, T) @ (B, T, C) -> (B, T, C)\n",
        "        return out\n",
        "\n",
        "class MultiHeadAttention(nn.Module):\n",
        "    \"\"\" multiple heads of self-attention in parallel \"\"\"\n",
        "\n",
        "    def __init__(self, num_heads, head_size):\n",
        "        super().__init__()\n",
        "        self.heads = nn.ModuleList([Head(head_size) for _ in range(num_heads)])\n",
        "        self.proj = nn.Linear(n_embd, n_embd)\n",
        "        self.dropout = nn.Dropout(dropout)\n",
        "\n",
        "    def forward(self, x):\n",
        "        out = torch.cat([h(x) for h in self.heads], dim=-1)\n",
        "        out = self.dropout(self.proj(out))\n",
        "        return out\n",
        "\n",
        "class FeedFoward(nn.Module):\n",
        "    \"\"\" a simple linear layer followed by a non-linearity \"\"\"\n",
        "\n",
        "    def __init__(self, n_embd):\n",
        "        super().__init__()\n",
        "        self.net = nn.Sequential(\n",
        "            nn.Linear(n_embd, 4 * n_embd),\n",
        "            nn.ReLU(),\n",
        "            nn.Linear(4 * n_embd, n_embd),\n",
        "            nn.Dropout(dropout),\n",
        "        )\n",
        "\n",
        "    def forward(self, x):\n",
        "        return self.net(x)\n",
        "\n",
        "class Block(nn.Module):\n",
        "    \"\"\" Transformer block: communication followed by computation \"\"\"\n",
        "\n",
        "    def __init__(self, n_embd, n_head):\n",
        "        # n_embd: embedding dimension, n_head: the number of heads we'd like\n",
        "        super().__init__()\n",
        "        head_size = n_embd // n_head\n",
        "        self.sa = MultiHeadAttention(n_head, head_size)\n",
        "        self.ffwd = FeedFoward(n_embd)\n",
        "        self.ln1 = nn.LayerNorm(n_embd)\n",
        "        self.ln2 = nn.LayerNorm(n_embd)\n",
        "\n",
        "    def forward(self, x):\n",
        "        x = x + self.sa(self.ln1(x))\n",
        "        x = x + self.ffwd(self.ln2(x))\n",
        "        return x\n",
        "\n",
        "# super simple bigram model\n",
        "class BigramLanguageModel(nn.Module):\n",
        "\n",
        "    def __init__(self):\n",
        "        super().__init__()\n",
        "        # each token directly reads off the logits for the next token from a lookup table\n",
        "        self.token_embedding_table = nn.Embedding(vocab_size, n_embd)\n",
        "        self.position_embedding_table = nn.Embedding(block_size, n_embd)\n",
        "        self.blocks = nn.Sequential(*[Block(n_embd, n_head=n_head) for _ in range(n_layer)])\n",
        "        self.ln_f = nn.LayerNorm(n_embd) # final layer norm\n",
        "        self.lm_head = nn.Linear(n_embd, vocab_size)\n",
        "\n",
        "    def forward(self, idx, targets=None):\n",
        "        B, T = idx.shape\n",
        "\n",
        "        # idx and targets are both (B,T) tensor of integers\n",
        "        tok_emb = self.token_embedding_table(idx) # (B,T,C)\n",
        "        pos_emb = self.position_embedding_table(torch.arange(T, device=device)) # (T,C)\n",
        "        x = tok_emb + pos_emb # (B,T,C)\n",
        "        x = self.blocks(x) # (B,T,C)\n",
        "        x = self.ln_f(x) # (B,T,C)\n",
        "        logits = self.lm_head(x) # (B,T,vocab_size)\n",
        "\n",
        "        if targets is None:\n",
        "            loss = None\n",
        "        else:\n",
        "            B, T, C = logits.shape\n",
        "            logits = logits.view(B*T, C)\n",
        "            targets = targets.view(B*T)\n",
        "            loss = F.cross_entropy(logits, targets)\n",
        "\n",
        "        return logits, loss\n",
        "\n",
        "    def generate(self, idx, max_new_tokens):\n",
        "        # idx is (B, T) array of indices in the current context\n",
        "        for _ in range(max_new_tokens):\n",
        "            # crop idx to the last block_size tokens\n",
        "            idx_cond = idx[:, -block_size:]\n",
        "            # get the predictions\n",
        "            logits, loss = self(idx_cond)\n",
        "            # focus only on the last time step\n",
        "            logits = logits[:, -1, :] # becomes (B, C)\n",
        "            # apply softmax to get probabilities\n",
        "            probs = F.softmax(logits, dim=-1) # (B, C)\n",
        "            # sample from the distribution\n",
        "            idx_next = torch.multinomial(probs, num_samples=1) # (B, 1)\n",
        "            # append sampled index to the running sequence\n",
        "            idx = torch.cat((idx, idx_next), dim=1) # (B, T+1)\n",
        "        return idx\n",
        "\n",
        "model = BigramLanguageModel()\n",
        "m = model.to(device)\n",
        "# print the number of parameters in the model\n",
        "print(sum(p.numel() for p in m.parameters())/1e6, 'M parameters')\n",
        "\n",
        "# create a PyTorch optimizer\n",
        "optimizer = torch.optim.AdamW(model.parameters(), lr=learning_rate)\n",
        "\n",
        "for iter in range(max_iters):\n",
        "\n",
        "    # every once in a while evaluate the loss on train and val sets\n",
        "    if iter % eval_interval == 0 or iter == max_iters - 1:\n",
        "        losses = estimate_loss()\n",
        "        print(f\"step {iter}: train loss {losses['train']:.4f}, val loss {losses['val']:.4f}\")\n",
        "\n",
        "    # sample a batch of data\n",
        "    xb, yb = get_batch('train')\n",
        "\n",
        "    # evaluate the loss\n",
        "    logits, loss = model(xb, yb)\n",
        "    optimizer.zero_grad(set_to_none=True)\n",
        "    loss.backward()\n",
        "    optimizer.step()\n",
        "\n",
        "# generate from the model\n",
        "context = torch.zeros((1, 1), dtype=torch.long, device=device)\n",
        "print(decode(m.generate(context, max_new_tokens=2000)[0].tolist()))\n"
      ],
      "metadata": {
        "colab": {
          "base_uri": "https://localhost:8080/"
        },
        "id": "hoelkOrFY8bN",
        "outputId": "fa38263c-3b4b-4a21-c554-f86188392528"
      },
      "execution_count": null,
      "outputs": [
        {
          "output_type": "stream",
          "name": "stdout",
          "text": [
            "0.209729 M parameters\n",
            "step 0: train loss 4.4116, val loss 4.4022\n",
            "step 500: train loss 2.3135, val loss 2.3140\n",
            "step 1000: train loss 2.1010, val loss 2.1278\n",
            "step 1500: train loss 1.9656, val loss 2.0322\n",
            "step 2000: train loss 1.8791, val loss 1.9671\n",
            "step 2500: train loss 1.8184, val loss 1.9448\n",
            "step 3000: train loss 1.7718, val loss 1.9150\n",
            "step 3500: train loss 1.7468, val loss 1.8973\n",
            "step 4000: train loss 1.7210, val loss 1.8616\n",
            "step 4500: train loss 1.6955, val loss 1.8490\n",
            "step 4999: train loss 1.6635, val loss 1.8248\n",
            "\n",
            "\n",
            "My haligio:\n",
            "That agisg love I say all her defer mis-morry love altieng; my mentwell:\n",
            "As he, what you lat! Hancomming thought.\n",
            "\n",
            "POMPEDY IVELLAURENT:\n",
            "But, and be seep? That face will.\n",
            "We will all care dedise.\n",
            "\n",
            "For God Henry, will of what; is for hows and myself!\n",
            "Which nother he's king! fallowelts have, vert by her\n",
            "A first they addly joness and he is man;\n",
            "Now ever their Seriand of suffend, ontught Backingmins!\n",
            "\n",
            "MENENIUS:\n",
            "Comlecary'd from yourselver, woar sonestly that a'tword of Dur-beg-hich you sall me forcess her frichy;\n",
            "Neviollay liars me with sin me this erment.\n",
            "\n",
            "Thirgez:\n",
            "I honess in't men; his-slat is it person,\n",
            "And hall you partcorn,' a lack?-\n",
            "\n",
            "MERGARETO:\n",
            "How trumst neversely were of theirs forcespate, I knight thoughant?\n",
            "\n",
            "Beyongn:\n",
            "Call holst on honourselvant slignested me of music no his deed.\n",
            "\n",
            "ANTISA:\n",
            "O made that ass myself. Hall; be raword would shall nevers blow\n",
            "Selign Bloweding our prince, you pargensing thee,\n",
            "As And he almst faceen\n",
            "Tumber not, yetep;\n",
            "And you she snate; frather prosent criford your\n",
            "once barcy becomely my tree-keing lose,\n",
            "That her you comford Sply hongill were,\n",
            "Was it is wantay-dadiss. I am wellove thee:\n",
            "'Two alcoune, he thou have. God that nature his lovew up by he this recroath, as\n",
            "by send all and thought heive; this wis My are days,\n",
            "Buhaggrenn recond finds; ous but his uower there,\n",
            "Mongration thought enjury streming ding drom'd?\n",
            "\n",
            "First Saccivant:\n",
            "Now thoughtt usWaford ix there blood,\n",
            "I earge is burn my airn'st plooncangtwer that\n",
            "That nights being jlongg-'inlised never Mentage!\n",
            "Dive cloul thought he speak forthought day well a his felle, our.\n",
            "\n",
            "Revioness:\n",
            "I cannot thethou slanned afland, thank yever he\n",
            "Timanur-lays, life tull therith, studeritb.\n",
            "\n",
            "First Rome is:\n",
            "I'll hate, is, greal, suchiold of nightors Richard,\n",
            "As they her slays nevers\n",
            "He your romings, coll; ive youghter his sprain.\n",
            "\n",
            "MARGARET:\n",
            "I'll to sever My onlemiceat a pretch, alluse night.\n",
            "\n",
            "CLOMINGHAM:\n",
            "What, bare place thy; say, you susign:\n",
            "Boffort far.\n",
            "\n",
            "JULIETET:\n",
            "There you still msta\n"
          ]
        }
      ]
    },
    {
      "cell_type": "markdown",
      "source": [
        "This is a transformer is trained only on 1 mil paramters. Blabbers like shakespere like manner. Pretty good demonstration of what is possible.\n",
        "\n",
        "This is only a decoder only block from the \"Attention is all you need paper\"\n",
        "Only decoder because its using a triangular mask.\n",
        "\n",
        "Original paper is a machine translation paper - so its a encoder-decoder model. It conditions the generation on some additional information (French) and generate text in English.\n",
        "French to English translation example:\n",
        "\n",
        "<--------- ENCODE ------------------><--------------- DECODE ----------------->\n",
        "les réseaux de neurones sont géniaux! <START> neural networks are awesome!<END>\n",
        "\n",
        "All tokens are allowed to talk as much as they want. To solve problems like Sentimentent analysis also, each token is allowed to talk to everyone (past and future)."
      ],
      "metadata": {
        "id": "3OkkWEFyWGTP"
      }
    },
    {
      "cell_type": "markdown",
      "source": [
        "What it takes to build a ChatGPT? How does it relate to what we saw today?\n",
        "1 Pretraining Stage: Training on a large chunk of internet and get a decoder only transformer to babble text. Very similar to what we saw now. Ours is a tiny baby.\n",
        "![gpt3_training_parameters.png](data:image/png;base64,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)\n",
        "\n",
        "In our case:\n",
        "\n",
        "n_params - 1 Million\n",
        "\n",
        "n_layers - number of blocks - 4\n",
        "\n",
        "d_model - embedding_size - 32\n",
        "\n",
        "n_heads - number of heads in multi head attention - 4\n",
        "\n",
        "d_head - head_size - 16\n",
        "\n",
        "number_of_tokens -1 Million, ChatGPT number_of_tokens must be a few Trillion by now.\n"
      ],
      "metadata": {
        "id": "ImTpvE2KkRGZ"
      }
    },
    {
      "cell_type": "markdown",
      "source": [
        "\n",
        "# ChatGPT\n",
        "(State 1) Pretraiing part which will learn to generate documents of internet using the architecture just discussed. Architecture is similar with massive infrastructure challenge. 1000s of GPUs talking to each other.\n",
        "\n",
        "(Stage 2) Finetuning Stage: Allign it to be an assistant.\n",
        "Step 1 - few question answers training.\n",
        "Step 2 - rank the answers\n",
        "Step 3 - Policy gradient - chatgpt is expected to score a high number."
      ],
      "metadata": {
        "id": "SGR3EDg3XPlN"
      }
    }
  ]
}